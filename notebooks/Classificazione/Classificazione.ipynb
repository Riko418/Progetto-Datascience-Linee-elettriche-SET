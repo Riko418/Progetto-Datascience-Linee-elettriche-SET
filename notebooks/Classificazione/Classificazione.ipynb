{
 "cells": [
  {
   "cell_type": "markdown",
   "id": "7530dffb",
   "metadata": {},
   "source": [
    "# Modelli di classificazione"
   ]
  },
  {
   "cell_type": "markdown",
   "id": "375641b7",
   "metadata": {},
   "source": [
    "In questa parte del progetto, l'obiettivo è classificare le zone urbane nel comune di Trento, utilizzando modelli di classificazione. Si analizzano i dati relativi a tre fasce orarie specifiche: la fascia giornaliera (9-18),quella notturna (18-24) e la fascia 18-19. Per individuare le zone urbane, si fa riferimento alla potenza media erogata. Le zone vengono etichettate come urbane o non urbane tramite la colonna 'HIGH_POW'. In particolare, le zone urbane sono identificate come positive ('HIGH_POW' = 1), mentre le zone periferiche come negative ('HIGH_POW' = 0).\n",
    "La classe dei positivi contiene circa il doppio degli elementi rispetto alla classe dei negativi,perciò bisognerà anche tenere in considerazione il leggero sbilanciamento tra le classi durante l'allenamento dei modelli.\n",
    "\n",
    "La classificazione delle zone urbane è di grande interesse in quanto fornisce informazioni fondamentali per comprendere e analizzare il consumo energetico nelle diverse aree del comune di Trento. Questa suddivisione permette di individuare le zone con una maggiore concentrazione di attività e infrastrutture urbane, che generalmente presentano un consumo energetico più elevato. L'utilizzo di modelli di classificazione consente di identificare e distinguere in modo accurato le zone urbane dalle zone periferiche, facilitando ulteriori analisi e previsioni legate al consumo energetico e alla pianificazione urbana.\n",
    "\n"
   ]
  },
  {
   "cell_type": "code",
   "execution_count": 1,
   "id": "4e4041ad",
   "metadata": {},
   "outputs": [],
   "source": [
    "import pandas as pd\n",
    "import numpy as np\n",
    "import geopandas as gp\n",
    "from datetime import datetime\n",
    "from datetime import date\n",
    "import seaborn as sns\n",
    "import ydata_profiling as yp\n",
    "from ydata_profiling import ProfileReport \n",
    "%matplotlib inline"
   ]
  },
  {
   "cell_type": "markdown",
   "id": "206e003c",
   "metadata": {},
   "source": [
    "Cominciamo caricando i dataset contenenti le potenze medie nella fascia oraria 9-18 creati precedentemente"
   ]
  },
  {
   "cell_type": "code",
   "execution_count": 61,
   "id": "e5b7274a",
   "metadata": {},
   "outputs": [
    {
     "data": {
      "text/html": [
       "<div>\n",
       "<style scoped>\n",
       "    .dataframe tbody tr th:only-of-type {\n",
       "        vertical-align: middle;\n",
       "    }\n",
       "\n",
       "    .dataframe tbody tr th {\n",
       "        vertical-align: top;\n",
       "    }\n",
       "\n",
       "    .dataframe thead th {\n",
       "        text-align: right;\n",
       "    }\n",
       "</style>\n",
       "<table border=\"1\" class=\"dataframe\">\n",
       "  <thead>\n",
       "    <tr style=\"text-align: right;\">\n",
       "      <th></th>\n",
       "      <th>SQUAREID</th>\n",
       "      <th>DAY</th>\n",
       "      <th>DAY_ID</th>\n",
       "      <th>LUN</th>\n",
       "      <th>MAR</th>\n",
       "      <th>MER</th>\n",
       "      <th>GIO</th>\n",
       "      <th>VEN</th>\n",
       "      <th>SQUARE_UBICAZIONI</th>\n",
       "      <th>NR_LINES</th>\n",
       "      <th>DAWN</th>\n",
       "      <th>SUNSET</th>\n",
       "      <th>DAYLENGHT</th>\n",
       "      <th>minTemperature</th>\n",
       "      <th>maxTemperature</th>\n",
       "      <th>POWER</th>\n",
       "      <th>HIGH_POW</th>\n",
       "    </tr>\n",
       "  </thead>\n",
       "  <tbody>\n",
       "    <tr>\n",
       "      <th>0</th>\n",
       "      <td>4850</td>\n",
       "      <td>1</td>\n",
       "      <td>4</td>\n",
       "      <td>0</td>\n",
       "      <td>0</td>\n",
       "      <td>0</td>\n",
       "      <td>0</td>\n",
       "      <td>1</td>\n",
       "      <td>285</td>\n",
       "      <td>5</td>\n",
       "      <td>417</td>\n",
       "      <td>1020</td>\n",
       "      <td>603</td>\n",
       "      <td>11.7</td>\n",
       "      <td>16.0</td>\n",
       "      <td>18.177452</td>\n",
       "      <td>0</td>\n",
       "    </tr>\n",
       "    <tr>\n",
       "      <th>1</th>\n",
       "      <td>4850</td>\n",
       "      <td>4</td>\n",
       "      <td>0</td>\n",
       "      <td>1</td>\n",
       "      <td>0</td>\n",
       "      <td>0</td>\n",
       "      <td>0</td>\n",
       "      <td>0</td>\n",
       "      <td>285</td>\n",
       "      <td>5</td>\n",
       "      <td>421</td>\n",
       "      <td>1016</td>\n",
       "      <td>594</td>\n",
       "      <td>7.4</td>\n",
       "      <td>9.8</td>\n",
       "      <td>23.338705</td>\n",
       "      <td>1</td>\n",
       "    </tr>\n",
       "    <tr>\n",
       "      <th>2</th>\n",
       "      <td>4850</td>\n",
       "      <td>5</td>\n",
       "      <td>1</td>\n",
       "      <td>0</td>\n",
       "      <td>1</td>\n",
       "      <td>0</td>\n",
       "      <td>0</td>\n",
       "      <td>0</td>\n",
       "      <td>285</td>\n",
       "      <td>5</td>\n",
       "      <td>422</td>\n",
       "      <td>1014</td>\n",
       "      <td>592</td>\n",
       "      <td>7.5</td>\n",
       "      <td>15.4</td>\n",
       "      <td>21.874364</td>\n",
       "      <td>1</td>\n",
       "    </tr>\n",
       "    <tr>\n",
       "      <th>3</th>\n",
       "      <td>4850</td>\n",
       "      <td>6</td>\n",
       "      <td>2</td>\n",
       "      <td>0</td>\n",
       "      <td>0</td>\n",
       "      <td>1</td>\n",
       "      <td>0</td>\n",
       "      <td>0</td>\n",
       "      <td>285</td>\n",
       "      <td>5</td>\n",
       "      <td>424</td>\n",
       "      <td>1013</td>\n",
       "      <td>589</td>\n",
       "      <td>7.9</td>\n",
       "      <td>14.3</td>\n",
       "      <td>21.773714</td>\n",
       "      <td>1</td>\n",
       "    </tr>\n",
       "    <tr>\n",
       "      <th>4</th>\n",
       "      <td>4850</td>\n",
       "      <td>7</td>\n",
       "      <td>3</td>\n",
       "      <td>0</td>\n",
       "      <td>0</td>\n",
       "      <td>0</td>\n",
       "      <td>1</td>\n",
       "      <td>0</td>\n",
       "      <td>285</td>\n",
       "      <td>5</td>\n",
       "      <td>425</td>\n",
       "      <td>1012</td>\n",
       "      <td>586</td>\n",
       "      <td>6.1</td>\n",
       "      <td>15.6</td>\n",
       "      <td>21.426790</td>\n",
       "      <td>1</td>\n",
       "    </tr>\n",
       "    <tr>\n",
       "      <th>...</th>\n",
       "      <td>...</td>\n",
       "      <td>...</td>\n",
       "      <td>...</td>\n",
       "      <td>...</td>\n",
       "      <td>...</td>\n",
       "      <td>...</td>\n",
       "      <td>...</td>\n",
       "      <td>...</td>\n",
       "      <td>...</td>\n",
       "      <td>...</td>\n",
       "      <td>...</td>\n",
       "      <td>...</td>\n",
       "      <td>...</td>\n",
       "      <td>...</td>\n",
       "      <td>...</td>\n",
       "      <td>...</td>\n",
       "      <td>...</td>\n",
       "    </tr>\n",
       "    <tr>\n",
       "      <th>1171</th>\n",
       "      <td>5552</td>\n",
       "      <td>25</td>\n",
       "      <td>0</td>\n",
       "      <td>1</td>\n",
       "      <td>0</td>\n",
       "      <td>0</td>\n",
       "      <td>0</td>\n",
       "      <td>0</td>\n",
       "      <td>133</td>\n",
       "      <td>1</td>\n",
       "      <td>450</td>\n",
       "      <td>994</td>\n",
       "      <td>543</td>\n",
       "      <td>2.4</td>\n",
       "      <td>10.4</td>\n",
       "      <td>7.722336</td>\n",
       "      <td>0</td>\n",
       "    </tr>\n",
       "    <tr>\n",
       "      <th>1172</th>\n",
       "      <td>5552</td>\n",
       "      <td>26</td>\n",
       "      <td>1</td>\n",
       "      <td>0</td>\n",
       "      <td>1</td>\n",
       "      <td>0</td>\n",
       "      <td>0</td>\n",
       "      <td>0</td>\n",
       "      <td>133</td>\n",
       "      <td>1</td>\n",
       "      <td>451</td>\n",
       "      <td>993</td>\n",
       "      <td>541</td>\n",
       "      <td>2.4</td>\n",
       "      <td>6.7</td>\n",
       "      <td>7.923465</td>\n",
       "      <td>0</td>\n",
       "    </tr>\n",
       "    <tr>\n",
       "      <th>1173</th>\n",
       "      <td>5552</td>\n",
       "      <td>27</td>\n",
       "      <td>2</td>\n",
       "      <td>0</td>\n",
       "      <td>0</td>\n",
       "      <td>1</td>\n",
       "      <td>0</td>\n",
       "      <td>0</td>\n",
       "      <td>133</td>\n",
       "      <td>1</td>\n",
       "      <td>453</td>\n",
       "      <td>992</td>\n",
       "      <td>539</td>\n",
       "      <td>-0.3</td>\n",
       "      <td>4.9</td>\n",
       "      <td>8.064573</td>\n",
       "      <td>0</td>\n",
       "    </tr>\n",
       "    <tr>\n",
       "      <th>1174</th>\n",
       "      <td>5552</td>\n",
       "      <td>28</td>\n",
       "      <td>3</td>\n",
       "      <td>0</td>\n",
       "      <td>0</td>\n",
       "      <td>0</td>\n",
       "      <td>1</td>\n",
       "      <td>0</td>\n",
       "      <td>133</td>\n",
       "      <td>1</td>\n",
       "      <td>454</td>\n",
       "      <td>992</td>\n",
       "      <td>538</td>\n",
       "      <td>-2.6</td>\n",
       "      <td>5.0</td>\n",
       "      <td>7.927466</td>\n",
       "      <td>0</td>\n",
       "    </tr>\n",
       "    <tr>\n",
       "      <th>1175</th>\n",
       "      <td>5552</td>\n",
       "      <td>29</td>\n",
       "      <td>4</td>\n",
       "      <td>0</td>\n",
       "      <td>0</td>\n",
       "      <td>0</td>\n",
       "      <td>0</td>\n",
       "      <td>1</td>\n",
       "      <td>133</td>\n",
       "      <td>1</td>\n",
       "      <td>455</td>\n",
       "      <td>991</td>\n",
       "      <td>536</td>\n",
       "      <td>-1.6</td>\n",
       "      <td>6.2</td>\n",
       "      <td>7.224181</td>\n",
       "      <td>0</td>\n",
       "    </tr>\n",
       "  </tbody>\n",
       "</table>\n",
       "<p>1176 rows × 17 columns</p>\n",
       "</div>"
      ],
      "text/plain": [
       "      SQUAREID  DAY  DAY_ID  LUN  MAR  MER  GIO  VEN  SQUARE_UBICAZIONI  \\\n",
       "0         4850    1       4    0    0    0    0    1                285   \n",
       "1         4850    4       0    1    0    0    0    0                285   \n",
       "2         4850    5       1    0    1    0    0    0                285   \n",
       "3         4850    6       2    0    0    1    0    0                285   \n",
       "4         4850    7       3    0    0    0    1    0                285   \n",
       "...        ...  ...     ...  ...  ...  ...  ...  ...                ...   \n",
       "1171      5552   25       0    1    0    0    0    0                133   \n",
       "1172      5552   26       1    0    1    0    0    0                133   \n",
       "1173      5552   27       2    0    0    1    0    0                133   \n",
       "1174      5552   28       3    0    0    0    1    0                133   \n",
       "1175      5552   29       4    0    0    0    0    1                133   \n",
       "\n",
       "      NR_LINES  DAWN  SUNSET  DAYLENGHT  minTemperature  maxTemperature  \\\n",
       "0            5   417    1020        603            11.7            16.0   \n",
       "1            5   421    1016        594             7.4             9.8   \n",
       "2            5   422    1014        592             7.5            15.4   \n",
       "3            5   424    1013        589             7.9            14.3   \n",
       "4            5   425    1012        586             6.1            15.6   \n",
       "...        ...   ...     ...        ...             ...             ...   \n",
       "1171         1   450     994        543             2.4            10.4   \n",
       "1172         1   451     993        541             2.4             6.7   \n",
       "1173         1   453     992        539            -0.3             4.9   \n",
       "1174         1   454     992        538            -2.6             5.0   \n",
       "1175         1   455     991        536            -1.6             6.2   \n",
       "\n",
       "          POWER  HIGH_POW  \n",
       "0     18.177452         0  \n",
       "1     23.338705         1  \n",
       "2     21.874364         1  \n",
       "3     21.773714         1  \n",
       "4     21.426790         1  \n",
       "...         ...       ...  \n",
       "1171   7.722336         0  \n",
       "1172   7.923465         0  \n",
       "1173   8.064573         0  \n",
       "1174   7.927466         0  \n",
       "1175   7.224181         0  \n",
       "\n",
       "[1176 rows x 17 columns]"
      ]
     },
     "execution_count": 61,
     "metadata": {},
     "output_type": "execute_result"
    }
   ],
   "source": [
    "df_day_trento_nov=pd.read_csv(\"class/df_day_trento_nov.csv\")\n",
    "df_day_trento_nov.drop(columns=['Unnamed: 0','SAB','DOM','TRENTO'],inplace=True)\n",
    "df_day_trento_dec=pd.read_csv(\"class/df_day_trento_nov.csv\")\n",
    "df_day_trento_dec.drop(columns=['Unnamed: 0','SAB','DOM','TRENTO'],inplace=True)\n",
    "df_day_trento=pd.concat([df_day_trento_nov, df_day_trento_dec], ignore_index=True)\n",
    "df_day_trento"
   ]
  },
  {
   "cell_type": "markdown",
   "id": "29ecf3d0",
   "metadata": {},
   "source": [
    "Facciamo un profile report sui dati per vedere eventuali correlazioni tra essi"
   ]
  },
  {
   "cell_type": "code",
   "execution_count": 107,
   "id": "49aa33b3",
   "metadata": {},
   "outputs": [
    {
     "data": {
      "application/vnd.jupyter.widget-view+json": {
       "model_id": "e7dccb4300f74fc3b8c7a2ab8b0b9790",
       "version_major": 2,
       "version_minor": 0
      },
      "text/plain": [
       "Summarize dataset:   0%|          | 0/5 [00:00<?, ?it/s]"
      ]
     },
     "metadata": {},
     "output_type": "display_data"
    },
    {
     "data": {
      "application/vnd.jupyter.widget-view+json": {
       "model_id": "7093afda1fbf44b6ae519727d640ed77",
       "version_major": 2,
       "version_minor": 0
      },
      "text/plain": [
       "Generate report structure:   0%|          | 0/1 [00:00<?, ?it/s]"
      ]
     },
     "metadata": {},
     "output_type": "display_data"
    },
    {
     "data": {
      "application/vnd.jupyter.widget-view+json": {
       "model_id": "012e680fb29d4766900e9ebfafe984e4",
       "version_major": 2,
       "version_minor": 0
      },
      "text/plain": [
       "Render HTML:   0%|          | 0/1 [00:00<?, ?it/s]"
      ]
     },
     "metadata": {},
     "output_type": "display_data"
    },
    {
     "data": {
      "application/vnd.jupyter.widget-view+json": {
       "model_id": "187aa968294d4d19be2b5dda4a4d3242",
       "version_major": 2,
       "version_minor": 0
      },
      "text/plain": [
       "Export report to file:   0%|          | 0/1 [00:00<?, ?it/s]"
      ]
     },
     "metadata": {},
     "output_type": "display_data"
    }
   ],
   "source": [
    "report=ProfileReport(df_day_trento,title='Dati originali')\n",
    "report.to_file('dati_class_trento.html')\n"
   ]
  },
  {
   "cell_type": "markdown",
   "id": "e3818fe7",
   "metadata": {},
   "source": [
    "Controlliamo che il dataset non contenga valori nulli"
   ]
  },
  {
   "cell_type": "code",
   "execution_count": 3,
   "id": "3056a976",
   "metadata": {},
   "outputs": [
    {
     "data": {
      "text/plain": [
       "SQUAREID             0\n",
       "DAY                  0\n",
       "DAY_ID               0\n",
       "LUN                  0\n",
       "MAR                  0\n",
       "MER                  0\n",
       "GIO                  0\n",
       "VEN                  0\n",
       "SQUARE_UBICAZIONI    0\n",
       "NR_LINES             0\n",
       "DAWN                 0\n",
       "SUNSET               0\n",
       "DAYLENGHT            0\n",
       "minTemperature       0\n",
       "maxTemperature       0\n",
       "POWER                0\n",
       "HIGH_POW             0\n",
       "dtype: int64"
      ]
     },
     "execution_count": 3,
     "metadata": {},
     "output_type": "execute_result"
    }
   ],
   "source": [
    "df_day_trento.isnull().sum()"
   ]
  },
  {
   "cell_type": "markdown",
   "id": "a8a29b0b",
   "metadata": {},
   "source": [
    "A questo punto, procediamo alla divisione del dataset in X e Y. X rappresenta i dati utilizzati come input per i modelli di classificazione. Dalla matrice X, rimuoviamo i parametri di identità come 'SQUAREID' e 'DAY' al fine di evitare un'eccessiva complessità del modello. Inoltre, escludiamo anche i parametri 'DAWN' e 'SUNSET', poiché sono altamente correlati alla lunghezza del giorno.\n",
    "Y invece, rappresenta la variabile dipendente che si desidera classificare, in questo caso l'etichetta che indica se una zona è urbana o non urbana.\n",
    "\n",
    "Successivamente, procediamo alla suddivisione delle matrici X e Y in tre sottoinsiemi: train, valid e test. Questa divisione è un'importante pratica nel campo dell'apprendimento automatico per valutare l'efficacia dei modelli e garantire una corretta generalizzazione.\n",
    "\n",
    "Il sottoinsieme di addestramento (train) viene utilizzato per addestrare il modello sui dati disponibili, consentendogli di apprendere i pattern e le relazioni tra le variabili indipendenti (X) e la variabile dipendente (Y). Questo è il set di dati su cui il modello regolerà i suoi parametri al fine di ottimizzare la performance.\n",
    "\n",
    "Il sottoinsieme di validazione (valid) viene utilizzato per valutare le prestazioni del modello durante la fase di addestramento. Utilizzando i dati di validazione, possiamo monitorare la capacità del modello di generalizzare e identificare eventuali problemi come l'overfitting o l'underfitting. Questo ci permette di apportare eventuali modifiche o regolazioni al modello per migliorarne le prestazioni.\n",
    "\n",
    "Infine, il sottoinsieme di test (test) viene utilizzato per valutare le prestazioni finali del modello una volta che è stato completamente addestrato e ottimizzato. Questo set di dati è indipendente dai dati di addestramento e validazione e viene utilizzato per valutare l'accuratezza del modello in situazioni reali."
   ]
  },
  {
   "cell_type": "code",
   "execution_count": 4,
   "id": "3a8715e2",
   "metadata": {},
   "outputs": [],
   "source": [
    "from sklearn import datasets\n",
    "from sklearn.linear_model import Ridge, Lasso, LinearRegression, LassoCV, RidgeCV\n",
    "from sklearn.preprocessing import StandardScaler\n",
    "from sklearn.model_selection import train_test_split,GridSearchCV\n",
    "from sklearn.metrics import mean_squared_error\n",
    "X=df_day_trento.drop(columns=['SQUAREID','POWER','DAY','DAWN','SUNSET','HIGH_POW'])\n",
    "scal = StandardScaler()\n",
    "Y=df_day_trento['HIGH_POW']\n",
    "X_train,X_other,Y_train,Y_other=train_test_split(X,Y,test_size=0.4,random_state=0)\n",
    "X_valid = X_other[:len(X_other)//2]\n",
    "X_test = X_other[len(X_other)//2:]\n",
    "Y_valid = Y_other[:len(Y_other)//2]\n",
    "Y_test = Y_other[len(Y_other)//2:]\n",
    "scal.fit(X)\n",
    "X_train=scal.transform(X_train)\n",
    "X_valid=scal.transform(X_valid)\n",
    "X_test=scal.transform(X_test)\n"
   ]
  },
  {
   "cell_type": "code",
   "execution_count": 5,
   "id": "b0e3f74a",
   "metadata": {},
   "outputs": [],
   "source": [
    "from  sklearn.linear_model import LogisticRegressionCV, LogisticRegression\n",
    "from sklearn.pipeline import Pipeline\n",
    "from sklearn.metrics import roc_curve, roc_auc_score, precision_recall_curve\n",
    "from sklearn.metrics import confusion_matrix,ConfusionMatrixDisplay\n",
    "from sklearn.metrics import f1_score"
   ]
  },
  {
   "cell_type": "markdown",
   "id": "5979bde6",
   "metadata": {},
   "source": [
    "A questo punto creiamo il primo classificatore con regolarizzazione elasticnet e lo alleniamo con i dati di train"
   ]
  },
  {
   "cell_type": "code",
   "execution_count": 6,
   "id": "409bef86",
   "metadata": {},
   "outputs": [],
   "source": [
    "LR_day = LogisticRegressionCV(penalty='elasticnet',solver='saga',l1_ratios=[0,0.25,0.5,0.75,1.0],max_iter=2000,tol=0.001,cv=20)"
   ]
  },
  {
   "cell_type": "code",
   "execution_count": 7,
   "id": "ad02f341",
   "metadata": {},
   "outputs": [
    {
     "data": {
      "text/html": [
       "<style>#sk-container-id-1 {color: black;}#sk-container-id-1 pre{padding: 0;}#sk-container-id-1 div.sk-toggleable {background-color: white;}#sk-container-id-1 label.sk-toggleable__label {cursor: pointer;display: block;width: 100%;margin-bottom: 0;padding: 0.3em;box-sizing: border-box;text-align: center;}#sk-container-id-1 label.sk-toggleable__label-arrow:before {content: \"▸\";float: left;margin-right: 0.25em;color: #696969;}#sk-container-id-1 label.sk-toggleable__label-arrow:hover:before {color: black;}#sk-container-id-1 div.sk-estimator:hover label.sk-toggleable__label-arrow:before {color: black;}#sk-container-id-1 div.sk-toggleable__content {max-height: 0;max-width: 0;overflow: hidden;text-align: left;background-color: #f0f8ff;}#sk-container-id-1 div.sk-toggleable__content pre {margin: 0.2em;color: black;border-radius: 0.25em;background-color: #f0f8ff;}#sk-container-id-1 input.sk-toggleable__control:checked~div.sk-toggleable__content {max-height: 200px;max-width: 100%;overflow: auto;}#sk-container-id-1 input.sk-toggleable__control:checked~label.sk-toggleable__label-arrow:before {content: \"▾\";}#sk-container-id-1 div.sk-estimator input.sk-toggleable__control:checked~label.sk-toggleable__label {background-color: #d4ebff;}#sk-container-id-1 div.sk-label input.sk-toggleable__control:checked~label.sk-toggleable__label {background-color: #d4ebff;}#sk-container-id-1 input.sk-hidden--visually {border: 0;clip: rect(1px 1px 1px 1px);clip: rect(1px, 1px, 1px, 1px);height: 1px;margin: -1px;overflow: hidden;padding: 0;position: absolute;width: 1px;}#sk-container-id-1 div.sk-estimator {font-family: monospace;background-color: #f0f8ff;border: 1px dotted black;border-radius: 0.25em;box-sizing: border-box;margin-bottom: 0.5em;}#sk-container-id-1 div.sk-estimator:hover {background-color: #d4ebff;}#sk-container-id-1 div.sk-parallel-item::after {content: \"\";width: 100%;border-bottom: 1px solid gray;flex-grow: 1;}#sk-container-id-1 div.sk-label:hover label.sk-toggleable__label {background-color: #d4ebff;}#sk-container-id-1 div.sk-serial::before {content: \"\";position: absolute;border-left: 1px solid gray;box-sizing: border-box;top: 0;bottom: 0;left: 50%;z-index: 0;}#sk-container-id-1 div.sk-serial {display: flex;flex-direction: column;align-items: center;background-color: white;padding-right: 0.2em;padding-left: 0.2em;position: relative;}#sk-container-id-1 div.sk-item {position: relative;z-index: 1;}#sk-container-id-1 div.sk-parallel {display: flex;align-items: stretch;justify-content: center;background-color: white;position: relative;}#sk-container-id-1 div.sk-item::before, #sk-container-id-1 div.sk-parallel-item::before {content: \"\";position: absolute;border-left: 1px solid gray;box-sizing: border-box;top: 0;bottom: 0;left: 50%;z-index: -1;}#sk-container-id-1 div.sk-parallel-item {display: flex;flex-direction: column;z-index: 1;position: relative;background-color: white;}#sk-container-id-1 div.sk-parallel-item:first-child::after {align-self: flex-end;width: 50%;}#sk-container-id-1 div.sk-parallel-item:last-child::after {align-self: flex-start;width: 50%;}#sk-container-id-1 div.sk-parallel-item:only-child::after {width: 0;}#sk-container-id-1 div.sk-dashed-wrapped {border: 1px dashed gray;margin: 0 0.4em 0.5em 0.4em;box-sizing: border-box;padding-bottom: 0.4em;background-color: white;}#sk-container-id-1 div.sk-label label {font-family: monospace;font-weight: bold;display: inline-block;line-height: 1.2em;}#sk-container-id-1 div.sk-label-container {text-align: center;}#sk-container-id-1 div.sk-container {/* jupyter's `normalize.less` sets `[hidden] { display: none; }` but bootstrap.min.css set `[hidden] { display: none !important; }` so we also need the `!important` here to be able to override the default hidden behavior on the sphinx rendered scikit-learn.org. See: https://github.com/scikit-learn/scikit-learn/issues/21755 */display: inline-block !important;position: relative;}#sk-container-id-1 div.sk-text-repr-fallback {display: none;}</style><div id=\"sk-container-id-1\" class=\"sk-top-container\"><div class=\"sk-text-repr-fallback\"><pre>LogisticRegressionCV(cv=20, l1_ratios=[0, 0.25, 0.5, 0.75, 1.0], max_iter=2000,\n",
       "                     penalty=&#x27;elasticnet&#x27;, solver=&#x27;saga&#x27;, tol=0.001)</pre><b>In a Jupyter environment, please rerun this cell to show the HTML representation or trust the notebook. <br />On GitHub, the HTML representation is unable to render, please try loading this page with nbviewer.org.</b></div><div class=\"sk-container\" hidden><div class=\"sk-item\"><div class=\"sk-estimator sk-toggleable\"><input class=\"sk-toggleable__control sk-hidden--visually\" id=\"sk-estimator-id-1\" type=\"checkbox\" checked><label for=\"sk-estimator-id-1\" class=\"sk-toggleable__label sk-toggleable__label-arrow\">LogisticRegressionCV</label><div class=\"sk-toggleable__content\"><pre>LogisticRegressionCV(cv=20, l1_ratios=[0, 0.25, 0.5, 0.75, 1.0], max_iter=2000,\n",
       "                     penalty=&#x27;elasticnet&#x27;, solver=&#x27;saga&#x27;, tol=0.001)</pre></div></div></div></div></div>"
      ],
      "text/plain": [
       "LogisticRegressionCV(cv=20, l1_ratios=[0, 0.25, 0.5, 0.75, 1.0], max_iter=2000,\n",
       "                     penalty='elasticnet', solver='saga', tol=0.001)"
      ]
     },
     "execution_count": 7,
     "metadata": {},
     "output_type": "execute_result"
    }
   ],
   "source": [
    "LR_day.fit(X_train,Y_train)\n"
   ]
  },
  {
   "cell_type": "markdown",
   "id": "8e3189ef",
   "metadata": {},
   "source": [
    "Visualizziamo l'importanza delle features del modello tramite un istogramma"
   ]
  },
  {
   "cell_type": "code",
   "execution_count": 8,
   "id": "50e87191",
   "metadata": {},
   "outputs": [
    {
     "data": {
      "text/plain": [
       "Text(0.5, 1.0, 'Pesi LR_day')"
      ]
     },
     "execution_count": 8,
     "metadata": {},
     "output_type": "execute_result"
    },
    {
     "data": {
      "image/png": "[encoded data removed]",
      "text/plain": [
       "<Figure size 600x600 with 1 Axes>"
      ]
     },
     "metadata": {},
     "output_type": "display_data"
    }
   ],
   "source": [
    "features = X.columns.to_numpy().reshape(-1)  # Reshape to 1-dimensional array\n",
    "weights = LR_day.coef_.flatten()  # Flatten the coefficients array\n",
    "df_w = pd.DataFrame({'features': features, 'weights': weights})\n",
    "ax = df_w.plot.barh(y='weights', x='features', figsize=(6, 6))\n",
    "ax.set_ylabel('Features')\n",
    "ax.set_title('Pesi LR_day')"
   ]
  },
  {
   "cell_type": "markdown",
   "id": "0a97d797",
   "metadata": {},
   "source": [
    "I parametri più importanti per la classificazione delle zone urbane sono il numero di ubicazioni, il numero di linee collegate e la lunghezza del giorno corrente. Questi parametri hanno senso poiché nelle zone urbane ci aspettiamo che, in media, il consumo di potenza aumenti con l'aumento delle ubicazioni presenti.\n",
    "\n",
    "La presenza di un maggior numero di ubicazioni in una determinata zona urbana indica una maggiore densità di attività residenziali e commerciali, che a loro volta richiedono un maggiore consumo di energia elettrica. Quindi, è ragionevole aspettarsi che il numero di ubicazioni sia il fattore più importante nella classificazione delle zone urbane."
   ]
  },
  {
   "cell_type": "markdown",
   "id": "4d4b75d5",
   "metadata": {},
   "source": [
    "Definiamo ora tre funzioni utili per la valutazione dei modelli:\n",
    "\n",
    "* **evaluate_classifier()**: Questa funzione stampa alcuni parametri di valutazione, come l'accuratezza, la precisione e lo score F1. Questi parametri vengono calcolati per il modello model dati due dataset X e Y. La funzione fornisce una panoramica delle prestazioni del modello e permette di valutare la sua capacità di classificazione.\n",
    "\n",
    "* **plot_roc_curve()**: Questa funzione, dati due modelli, crea un grafico in cui vengono confrontate le rispettive curve ROC (Receiver Operating Characteristic) e le AUC (Area Under the Curve). La curva ROC rappresenta il trade-off tra il tasso di vero positivo (True Positive Rate) e il tasso di falso positivo (False Positive Rate), mentre l'AUC fornisce una misura della capacità predittiva del modello. Dall'analisi delle curve ROC e dei valori di AUC, è possibile dedurre quale modello sia migliore nella classificazione.\n",
    "\n",
    "* **disp_cf()**: Questa funzione crea la matrice di confusione di un modello dati i dataset X e Y. La matrice di confusione visualizza il numero di veri positivi, falsi positivi, veri negativi e falsi negativi del modello, consentendo una valutazione dettagliata delle sue performance di classificazione. La matrice di confusione è uno strumento fondamentale per comprendere come il modello stia classificando correttamente e erroneamente le istanze."
   ]
  },
  {
   "cell_type": "code",
   "execution_count": 9,
   "id": "2d7abf00",
   "metadata": {},
   "outputs": [],
   "source": [
    "from sklearn import metrics\n",
    "from sklearn.metrics import roc_curve, auc\n",
    "import matplotlib.pyplot as plt\n",
    "\n",
    "def evaluate_classifier(model, X, Y):\n",
    "    # Make predictions on the validation data\n",
    "    y_pred = model.predict(X)\n",
    "    conf_mat = metrics.confusion_matrix(Y, y_pred)\n",
    "    # Calculate evaluation metrics\n",
    "    accuracy = metrics.accuracy_score(Y, y_pred)\n",
    "    precision = metrics.precision_score(Y, y_pred)\n",
    "    recall = metrics.recall_score(Y, y_pred)\n",
    "    f1_score = metrics.f1_score(Y, y_pred)\n",
    "    \n",
    "    \n",
    "    # Calculate true positive rate and false positive rate\n",
    "    tn, fp, fn, tp = conf_mat.ravel()\n",
    "    tpr = tp / (tp + fn)\n",
    "    fpr = fp / (fp + tn)\n",
    "    \n",
    "    # Print the evaluation metrics\n",
    "    print(\"Accuracy:\", accuracy)\n",
    "    print(\"Precision:\", precision)\n",
    "    print(\"Recall:\", recall)\n",
    "    print(\"F1 Score:\", f1_score)\n",
    "    print(\"True Positive Rate:\", tpr)\n",
    "    print(\"False Positive Rate:\", fpr)\n",
    "\n",
    "\n",
    "def plot_roc_curve(model1, model2, X, Y):\n",
    "    # Calculate the predicted probabilities for class 1\n",
    "    y_pred_prob1 = model1.predict_proba(X)[:, 1]\n",
    "    y_pred_prob2 = model2.predict_proba(X)[:, 1]\n",
    "    \n",
    "    # Compute the false positive rate (FPR), true positive rate (TPR), and thresholds for model1\n",
    "    fpr1, tpr1, thresholds1 = roc_curve(Y, y_pred_prob1)\n",
    "    roc_auc1 = auc(fpr1, tpr1)\n",
    "    \n",
    "    # Compute the false positive rate (FPR), true positive rate (TPR), and thresholds for model2\n",
    "    fpr2, tpr2, thresholds2 = roc_curve(Y, y_pred_prob2)\n",
    "    roc_auc2 = auc(fpr2, tpr2)\n",
    "    \n",
    "    # Plot ROC curve for model1\n",
    "    plt.plot(fpr1, tpr1, label='Model 1 (AUC = %0.2f)' % roc_auc1)\n",
    "    \n",
    "    # Plot ROC curve for model2\n",
    "    plt.plot(fpr2, tpr2, label='Model 2 (AUC = %0.2f)' % roc_auc2)\n",
    "    \n",
    "    # Plot diagonal line (random classifier)\n",
    "    plt.plot([0, 1], [0, 1], 'k--')\n",
    "    \n",
    "    # Set plot labels and title\n",
    "    plt.xlabel('False Positive Rate')\n",
    "    plt.ylabel('True Positive Rate')\n",
    "    plt.title('Confronto ROC')\n",
    "    \n",
    "    # Show legend\n",
    "    plt.legend(loc='lower right')\n",
    "    \n",
    "    # Show the plot\n",
    "    plt.show()\n",
    "    \n",
    "    # Print AUC for both models\n",
    "    print(\"Model 1 AUC:\", roc_auc1)\n",
    "    print(\"Model 2 AUC:\", roc_auc2)\n",
    "\n",
    "def disp_cf(model,X,Y):\n",
    "    y_pred = model.predict(X)\n",
    "    cm = confusion_matrix(Y,y_pred, labels=model.classes_)\n",
    "    disp = ConfusionMatrixDisplay(confusion_matrix=cm,display_labels=model.classes_)\n",
    "    disp.plot()"
   ]
  },
  {
   "cell_type": "markdown",
   "id": "a7ae9c5d",
   "metadata": {},
   "source": [
    "Valutiamo il classificatore creato e creiamo la matrice di confusione"
   ]
  },
  {
   "cell_type": "code",
   "execution_count": 10,
   "id": "43dfc032",
   "metadata": {
    "scrolled": true
   },
   "outputs": [
    {
     "name": "stdout",
     "output_type": "stream",
     "text": [
      "Accuracy: 0.8765957446808511\n",
      "Precision: 0.8859060402684564\n",
      "Recall: 0.9166666666666666\n",
      "F1 Score: 0.901023890784983\n",
      "True Positive Rate: 0.9166666666666666\n",
      "False Positive Rate: 0.18681318681318682\n"
     ]
    }
   ],
   "source": [
    "evaluate_classifier(LR_day, X_valid, Y_valid)"
   ]
  },
  {
   "cell_type": "code",
   "execution_count": 11,
   "id": "823d93ea",
   "metadata": {
    "scrolled": true
   },
   "outputs": [
    {
     "data": {
      "image/png": "[encoded data removed]",
      "text/plain": [
       "<Figure size 640x480 with 2 Axes>"
      ]
     },
     "metadata": {},
     "output_type": "display_data"
    }
   ],
   "source": [
    "disp_cf(LR_day, X_valid, Y_valid)"
   ]
  },
  {
   "cell_type": "markdown",
   "id": "d63487e7",
   "metadata": {},
   "source": [
    "Il risultato della matrice di confusione mostra che il modello ha classificato correttamente 74 zone come negative (veri negativi) e 132 zone come positivi (veri positivi). Tuttavia, ci sono stati 17 casi in cui il modello ha erroneamente classificato una zona come positiva quando in realtà era negativa (falsi positivi) e 12 casi in cui ha erroneamente classificato una zona come negativa quando in realtà era positiva (falsi negativi).\n",
    "\n",
    "Questo risultato suggerisce che il modello ha una buona capacità di identificare correttamente le istanze negative, ma può migliorare nella classificazione delle istanze positive."
   ]
  },
  {
   "cell_type": "markdown",
   "id": "cac69132",
   "metadata": {},
   "source": [
    "Per trovare il modello ottimale per la nostra classificazione, stiamo utilizziamo una tecnica chiamata GridSearch. Questo metodo ci consente di esplorare diverse combinazioni di iperparametri per un determinato modello e valutare quale combinazione produce le migliori prestazioni.\n",
    "\n",
    "Nella nostra GridSearch, specifichiamo una griglia di valori per gli iperparametri del modello. In particolare scegliamo come iperparametri il tipo di regolarizzazione (l1 o l2),un insieme di pesi per la regolarizzazione,il peso delle classi(Nessuno o bilanciato) e il metodo solver (saga o liblinear)"
   ]
  },
  {
   "cell_type": "code",
   "execution_count": 12,
   "id": "7fee9cb9",
   "metadata": {},
   "outputs": [],
   "source": [
    "from sklearn.preprocessing import StandardScaler\n",
    "log_reg = LogisticRegression(solver='saga', max_iter=2000, tol=0.0001)\n",
    "scaler = StandardScaler()\n",
    "pipe_lr = Pipeline([('scaler',scaler), ('logreg',log_reg)])"
   ]
  },
  {
   "cell_type": "code",
   "execution_count": 13,
   "id": "ffeafa0d",
   "metadata": {},
   "outputs": [],
   "source": [
    "from sklearn.preprocessing import StandardScaler\n",
    "log_reg = LogisticRegression(solver='saga', max_iter=2000, tol=0.0001)\n",
    "scaler = StandardScaler()\n",
    "pipe_lr = Pipeline([('scaler', scaler), ('logreg', log_reg)])\n",
    "\n",
    "# Define the hyperparameter grid\n",
    "param_grid = {\n",
    "    'logreg__penalty': ['l1', 'l2'],\n",
    "    'logreg__C':  np.logspace(-2,2,num=10),\n",
    "    'logreg__class_weight': [None, 'balanced'],\n",
    "    'logreg__solver': ['liblinear', 'saga'],\n",
    "}\n"
   ]
  },
  {
   "cell_type": "markdown",
   "id": "7a145335",
   "metadata": {},
   "source": [
    "Definiamo una funzione che seleziona il modello migliore della GridSearch"
   ]
  },
  {
   "cell_type": "code",
   "execution_count": 14,
   "id": "de5bb124",
   "metadata": {},
   "outputs": [],
   "source": [
    "def train_regression_model(regressor, param_grid, cv, X, y):\n",
    "    grid_search = GridSearchCV(regressor, param_grid, cv=cv)\n",
    "    grid_search.fit(X, y)\n",
    "\n",
    "    # Print the best parameters\n",
    "    best_params = grid_search.best_params_\n",
    "    print(\"Best parameters:\", best_params)\n",
    "\n",
    "    best_regressor = grid_search.best_estimator_  # Get the best estimator\n",
    "\n",
    "    return best_regressor"
   ]
  },
  {
   "cell_type": "markdown",
   "id": "0c9bf4a7",
   "metadata": {},
   "source": [
    "Stampiamo i parametri del modello migliore"
   ]
  },
  {
   "cell_type": "code",
   "execution_count": 15,
   "id": "ef88b181",
   "metadata": {
    "scrolled": false
   },
   "outputs": [
    {
     "name": "stdout",
     "output_type": "stream",
     "text": [
      "Best parameters: {'logreg__C': 0.0774263682681127, 'logreg__class_weight': 'balanced', 'logreg__penalty': 'l1', 'logreg__solver': 'saga'}\n"
     ]
    }
   ],
   "source": [
    "best_lr_day=train_regression_model(pipe_lr,param_grid,10,X_train,Y_train)"
   ]
  },
  {
   "cell_type": "code",
   "execution_count": 16,
   "id": "26577535",
   "metadata": {},
   "outputs": [
    {
     "data": {
      "text/plain": [
       "0.902127659574468"
      ]
     },
     "execution_count": 16,
     "metadata": {},
     "output_type": "execute_result"
    }
   ],
   "source": [
    "best_lr_day.score(X_valid,Y_valid)"
   ]
  },
  {
   "cell_type": "code",
   "execution_count": 17,
   "id": "e1888fc7",
   "metadata": {
    "scrolled": false
   },
   "outputs": [
    {
     "name": "stdout",
     "output_type": "stream",
     "text": [
      "Accuracy: 0.902127659574468\n",
      "Precision: 0.9230769230769231\n",
      "Recall: 0.9166666666666666\n",
      "F1 Score: 0.9198606271777002\n",
      "True Positive Rate: 0.9166666666666666\n",
      "False Positive Rate: 0.12087912087912088\n"
     ]
    }
   ],
   "source": [
    "evaluate_classifier(best_lr_day, X_valid, Y_valid)"
   ]
  },
  {
   "cell_type": "markdown",
   "id": "37913bd2",
   "metadata": {},
   "source": [
    "Confrontiamo le curve Roc e le Auc dei due classificatori"
   ]
  },
  {
   "cell_type": "code",
   "execution_count": 18,
   "id": "6bc3d5f3",
   "metadata": {
    "scrolled": true
   },
   "outputs": [
    {
     "data": {
      "image/png": "[encoded data removed]",
      "text/plain": [
       "<Figure size 640x480 with 1 Axes>"
      ]
     },
     "metadata": {},
     "output_type": "display_data"
    },
    {
     "name": "stdout",
     "output_type": "stream",
     "text": [
      "Model 1 AUC: 0.9676434676434675\n",
      "Model 2 AUC: 0.9718406593406593\n"
     ]
    }
   ],
   "source": [
    "plot_roc_curve(LR_day, best_lr_day, X_valid, Y_valid)"
   ]
  },
  {
   "cell_type": "markdown",
   "id": "e852f8fb",
   "metadata": {},
   "source": [
    "Il classificatore \"best_lr_day\" mostra una leggera miglior performance rispetto al modello precedentemente allenato, come evidenziato dall'AUC (Area Under the Curve) della curva ROC. Questo suggerisce che il nostro nuovo modello è in grado di fornire una maggiore discriminazione tra le classi positive e negative. Pertanto, procediamo focalizzandoci esclusivamente sull'ultimo modello creato per ulteriori analisi e valutazioni"
   ]
  },
  {
   "cell_type": "code",
   "execution_count": 19,
   "id": "87faaa76",
   "metadata": {},
   "outputs": [],
   "source": [
    "pr,rec, th = precision_recall_curve(Y_valid,  best_lr_day.predict_proba(X_valid)[:,1])"
   ]
  },
  {
   "cell_type": "markdown",
   "id": "e0ce349d",
   "metadata": {},
   "source": [
    "Visualizziamo adesso l'andamento della precisione e della recall in funzione della threshold"
   ]
  },
  {
   "cell_type": "code",
   "execution_count": 20,
   "id": "188ff4e0",
   "metadata": {},
   "outputs": [
    {
     "data": {
      "text/plain": [
       "Text(0, 0.5, 'recall')"
      ]
     },
     "execution_count": 20,
     "metadata": {},
     "output_type": "execute_result"
    },
    {
     "data": {
      "image/png": "[encoded data removed]",
      "text/plain": [
       "<Figure size 640x480 with 2 Axes>"
      ]
     },
     "metadata": {},
     "output_type": "display_data"
    }
   ],
   "source": [
    "ax = sns.lineplot(x=th, y =pr[:-1], label='precision')\n",
    "ax2 = sns.lineplot(x=th,y=rec[:-1],label='recall',ax=ax.twinx(),color='red')\n",
    "ax.set_xlabel('threshold')\n",
    "ax.set_ylabel('precision')\n",
    "ax2.set_ylabel('recall')"
   ]
  },
  {
   "cell_type": "markdown",
   "id": "3c035bd4",
   "metadata": {},
   "source": [
    "A questo punto, miriamo a individuare la soglia (threshold) che minimizza il numero di falsi negativi. Questa scelta è motivata dal fatto che nel contesto del nostro progetto, è preferibile accettare la presenza di falsi positivi piuttosto che falsi negativi. Se i falsi negativi fossero più numerosi dei falsi positivi, ciò comporterebbe una sottovalutazione del consumo nella zona urbana di Trento e, di conseguenza, l'energia elettrica fornita basandosi su questo modello non sarebbe sufficiente per soddisfare la domanda. Pertanto, stiamo cercando la soglia che massimizza l'f1 score, un indicatore che tiene conto simultaneamente di precisione e richiamo, al fine di ottenere un equilibrio tra le due misure e trovare un punto di ottimizzazione."
   ]
  },
  {
   "cell_type": "code",
   "execution_count": 21,
   "id": "46b0c59b",
   "metadata": {},
   "outputs": [
    {
     "name": "stdout",
     "output_type": "stream",
     "text": [
      "Best Threshold: 0.12869251648016888\n"
     ]
    }
   ],
   "source": [
    "from sklearn.metrics import precision_recall_curve, auc\n",
    "f1_scores = 2 * (pr * rec) / (pr + rec)\n",
    "best_threshold = th[np.argmax(f1_scores)]\n",
    "print(\"Best Threshold:\", best_threshold)"
   ]
  },
  {
   "cell_type": "code",
   "execution_count": 22,
   "id": "d7312b4b",
   "metadata": {},
   "outputs": [
    {
     "data": {
      "text/plain": [
       "<sklearn.metrics._plot.confusion_matrix.ConfusionMatrixDisplay at 0x26323d6c850>"
      ]
     },
     "execution_count": 22,
     "metadata": {},
     "output_type": "execute_result"
    },
    {
     "data": {
      "image/png": "[encoded data removed]",
      "text/plain": [
       "<Figure size 640x480 with 2 Axes>"
      ]
     },
     "metadata": {},
     "output_type": "display_data"
    }
   ],
   "source": [
    "y_prob =  best_lr_day.predict_proba(X_valid)[:, 1]\n",
    "y_pred = (y_prob >= best_threshold).astype(int)\n",
    "cm = confusion_matrix(Y_valid,y_pred, labels= best_lr_day.classes_)\n",
    "disp = ConfusionMatrixDisplay(confusion_matrix=cm,\n",
    "                           display_labels= best_lr_day.classes_)\n",
    "disp.plot()"
   ]
  },
  {
   "cell_type": "markdown",
   "id": "751823f8",
   "metadata": {},
   "source": [
    "Dalla nuova matrice di confusione possiamo constatare che siamo riusciti a ottenere un risultato soddisfacente. La maggior parte delle zone è stata correttamente classificata, Osserviamo che non c'è nessuna zona che, in una specifica giornata, erroneamente classificata come falso negativo. Il modello mostra una buona capacità di individuare le zone urbane,"
   ]
  },
  {
   "cell_type": "markdown",
   "id": "6327f2dc",
   "metadata": {},
   "source": [
    "A questo punto rifacciamo il train su l'insieme train + valid, e valutiamo il modello confrontandolo con i dati test"
   ]
  },
  {
   "cell_type": "code",
   "execution_count": 23,
   "id": "a0f53e18",
   "metadata": {},
   "outputs": [
    {
     "data": {
      "text/html": [
       "<style>#sk-container-id-2 {color: black;}#sk-container-id-2 pre{padding: 0;}#sk-container-id-2 div.sk-toggleable {background-color: white;}#sk-container-id-2 label.sk-toggleable__label {cursor: pointer;display: block;width: 100%;margin-bottom: 0;padding: 0.3em;box-sizing: border-box;text-align: center;}#sk-container-id-2 label.sk-toggleable__label-arrow:before {content: \"▸\";float: left;margin-right: 0.25em;color: #696969;}#sk-container-id-2 label.sk-toggleable__label-arrow:hover:before {color: black;}#sk-container-id-2 div.sk-estimator:hover label.sk-toggleable__label-arrow:before {color: black;}#sk-container-id-2 div.sk-toggleable__content {max-height: 0;max-width: 0;overflow: hidden;text-align: left;background-color: #f0f8ff;}#sk-container-id-2 div.sk-toggleable__content pre {margin: 0.2em;color: black;border-radius: 0.25em;background-color: #f0f8ff;}#sk-container-id-2 input.sk-toggleable__control:checked~div.sk-toggleable__content {max-height: 200px;max-width: 100%;overflow: auto;}#sk-container-id-2 input.sk-toggleable__control:checked~label.sk-toggleable__label-arrow:before {content: \"▾\";}#sk-container-id-2 div.sk-estimator input.sk-toggleable__control:checked~label.sk-toggleable__label {background-color: #d4ebff;}#sk-container-id-2 div.sk-label input.sk-toggleable__control:checked~label.sk-toggleable__label {background-color: #d4ebff;}#sk-container-id-2 input.sk-hidden--visually {border: 0;clip: rect(1px 1px 1px 1px);clip: rect(1px, 1px, 1px, 1px);height: 1px;margin: -1px;overflow: hidden;padding: 0;position: absolute;width: 1px;}#sk-container-id-2 div.sk-estimator {font-family: monospace;background-color: #f0f8ff;border: 1px dotted black;border-radius: 0.25em;box-sizing: border-box;margin-bottom: 0.5em;}#sk-container-id-2 div.sk-estimator:hover {background-color: #d4ebff;}#sk-container-id-2 div.sk-parallel-item::after {content: \"\";width: 100%;border-bottom: 1px solid gray;flex-grow: 1;}#sk-container-id-2 div.sk-label:hover label.sk-toggleable__label {background-color: #d4ebff;}#sk-container-id-2 div.sk-serial::before {content: \"\";position: absolute;border-left: 1px solid gray;box-sizing: border-box;top: 0;bottom: 0;left: 50%;z-index: 0;}#sk-container-id-2 div.sk-serial {display: flex;flex-direction: column;align-items: center;background-color: white;padding-right: 0.2em;padding-left: 0.2em;position: relative;}#sk-container-id-2 div.sk-item {position: relative;z-index: 1;}#sk-container-id-2 div.sk-parallel {display: flex;align-items: stretch;justify-content: center;background-color: white;position: relative;}#sk-container-id-2 div.sk-item::before, #sk-container-id-2 div.sk-parallel-item::before {content: \"\";position: absolute;border-left: 1px solid gray;box-sizing: border-box;top: 0;bottom: 0;left: 50%;z-index: -1;}#sk-container-id-2 div.sk-parallel-item {display: flex;flex-direction: column;z-index: 1;position: relative;background-color: white;}#sk-container-id-2 div.sk-parallel-item:first-child::after {align-self: flex-end;width: 50%;}#sk-container-id-2 div.sk-parallel-item:last-child::after {align-self: flex-start;width: 50%;}#sk-container-id-2 div.sk-parallel-item:only-child::after {width: 0;}#sk-container-id-2 div.sk-dashed-wrapped {border: 1px dashed gray;margin: 0 0.4em 0.5em 0.4em;box-sizing: border-box;padding-bottom: 0.4em;background-color: white;}#sk-container-id-2 div.sk-label label {font-family: monospace;font-weight: bold;display: inline-block;line-height: 1.2em;}#sk-container-id-2 div.sk-label-container {text-align: center;}#sk-container-id-2 div.sk-container {/* jupyter's `normalize.less` sets `[hidden] { display: none; }` but bootstrap.min.css set `[hidden] { display: none !important; }` so we also need the `!important` here to be able to override the default hidden behavior on the sphinx rendered scikit-learn.org. See: https://github.com/scikit-learn/scikit-learn/issues/21755 */display: inline-block !important;position: relative;}#sk-container-id-2 div.sk-text-repr-fallback {display: none;}</style><div id=\"sk-container-id-2\" class=\"sk-top-container\"><div class=\"sk-text-repr-fallback\"><pre>Pipeline(steps=[(&#x27;scaler&#x27;, StandardScaler()),\n",
       "                (&#x27;logreg&#x27;,\n",
       "                 LogisticRegression(C=0.0774263682681127,\n",
       "                                    class_weight=&#x27;balanced&#x27;, max_iter=2000,\n",
       "                                    penalty=&#x27;l1&#x27;, solver=&#x27;saga&#x27;))])</pre><b>In a Jupyter environment, please rerun this cell to show the HTML representation or trust the notebook. <br />On GitHub, the HTML representation is unable to render, please try loading this page with nbviewer.org.</b></div><div class=\"sk-container\" hidden><div class=\"sk-item sk-dashed-wrapped\"><div class=\"sk-label-container\"><div class=\"sk-label sk-toggleable\"><input class=\"sk-toggleable__control sk-hidden--visually\" id=\"sk-estimator-id-2\" type=\"checkbox\" ><label for=\"sk-estimator-id-2\" class=\"sk-toggleable__label sk-toggleable__label-arrow\">Pipeline</label><div class=\"sk-toggleable__content\"><pre>Pipeline(steps=[(&#x27;scaler&#x27;, StandardScaler()),\n",
       "                (&#x27;logreg&#x27;,\n",
       "                 LogisticRegression(C=0.0774263682681127,\n",
       "                                    class_weight=&#x27;balanced&#x27;, max_iter=2000,\n",
       "                                    penalty=&#x27;l1&#x27;, solver=&#x27;saga&#x27;))])</pre></div></div></div><div class=\"sk-serial\"><div class=\"sk-item\"><div class=\"sk-estimator sk-toggleable\"><input class=\"sk-toggleable__control sk-hidden--visually\" id=\"sk-estimator-id-3\" type=\"checkbox\" ><label for=\"sk-estimator-id-3\" class=\"sk-toggleable__label sk-toggleable__label-arrow\">StandardScaler</label><div class=\"sk-toggleable__content\"><pre>StandardScaler()</pre></div></div></div><div class=\"sk-item\"><div class=\"sk-estimator sk-toggleable\"><input class=\"sk-toggleable__control sk-hidden--visually\" id=\"sk-estimator-id-4\" type=\"checkbox\" ><label for=\"sk-estimator-id-4\" class=\"sk-toggleable__label sk-toggleable__label-arrow\">LogisticRegression</label><div class=\"sk-toggleable__content\"><pre>LogisticRegression(C=0.0774263682681127, class_weight=&#x27;balanced&#x27;, max_iter=2000,\n",
       "                   penalty=&#x27;l1&#x27;, solver=&#x27;saga&#x27;)</pre></div></div></div></div></div></div></div>"
      ],
      "text/plain": [
       "Pipeline(steps=[('scaler', StandardScaler()),\n",
       "                ('logreg',\n",
       "                 LogisticRegression(C=0.0774263682681127,\n",
       "                                    class_weight='balanced', max_iter=2000,\n",
       "                                    penalty='l1', solver='saga'))])"
      ]
     },
     "execution_count": 23,
     "metadata": {},
     "output_type": "execute_result"
    }
   ],
   "source": [
    "X_final=np.concatenate([X_train, X_valid])\n",
    "Y_final=np.concatenate([Y_train, Y_valid])\n",
    "best_lr_day.fit(X_final,Y_final)"
   ]
  },
  {
   "cell_type": "code",
   "execution_count": 24,
   "id": "3e6a31e7",
   "metadata": {
    "scrolled": true
   },
   "outputs": [
    {
     "name": "stdout",
     "output_type": "stream",
     "text": [
      "Accuracy: 0.8983050847457628\n",
      "Precision: 0.9246575342465754\n",
      "Recall: 0.9121621621621622\n",
      "F1 Score: 0.9183673469387755\n",
      "True Positive Rate: 0.9121621621621622\n",
      "False Positive Rate: 0.125\n"
     ]
    }
   ],
   "source": [
    "evaluate_classifier(best_lr_day, X_test, Y_test)"
   ]
  },
  {
   "cell_type": "code",
   "execution_count": 25,
   "id": "2e99971c",
   "metadata": {},
   "outputs": [
    {
     "data": {
      "text/plain": [
       "<sklearn.metrics._plot.confusion_matrix.ConfusionMatrixDisplay at 0x2632c6bfb80>"
      ]
     },
     "execution_count": 25,
     "metadata": {},
     "output_type": "execute_result"
    },
    {
     "data": {
      "image/png": "[encoded data removed]",
      "text/plain": [
       "<Figure size 640x480 with 2 Axes>"
      ]
     },
     "metadata": {},
     "output_type": "display_data"
    }
   ],
   "source": [
    "y_prob =  best_lr_day.predict_proba(X_test)[:, 1]\n",
    "y_pred = (y_prob >= best_threshold).astype(int)\n",
    "cm = confusion_matrix(Y_test,y_pred, labels= best_lr_day.classes_)\n",
    "disp = ConfusionMatrixDisplay(confusion_matrix=cm,\n",
    "                           display_labels= best_lr_day.classes_)\n",
    "disp.plot()"
   ]
  },
  {
   "cell_type": "markdown",
   "id": "dbeac8be",
   "metadata": {},
   "source": [
    "Dalla matrice di confusione ottenuta sui dati di test, possiamo osservare che la distribuzione degli elementi è simile a quella precedentemente mostrata durante la valutazione del modello. Questo risultato ci permette di concludere che il nostro modello è in grado di effettuare predizioni accurate anche su dati che non sono mai stati utilizzati durante il processo di addestramento e di validazione."
   ]
  },
  {
   "cell_type": "markdown",
   "id": "825f1a46",
   "metadata": {},
   "source": [
    "A questo punto, procediamo alla visualizzazione delle zone predette dal modello sulla mappa. Per fare ciò, creiamo una nuova colonna booleana chiamata 'PRED' in cui inseriamo i valori previsti dal modello. Successivamente, raggruppiamo il dataset calcolando la media dei valori previsti per ogni zona durante i mesi di novembre e dicembre. Infine, in base ai valori reali e previsti, classifichiamo ogni zona come vera o falsa e mostriamo queste informazioni sulla mappa di Trento. In questo modo, sarà possibile valutare visivamente l'accuratezza delle previsioni del modello e confrontarle con la realtà delle zone urbane nella città."
   ]
  },
  {
   "cell_type": "code",
   "execution_count": 26,
   "id": "5b0163d5",
   "metadata": {},
   "outputs": [
    {
     "data": {
      "text/html": [
       "<div>\n",
       "<style scoped>\n",
       "    .dataframe tbody tr th:only-of-type {\n",
       "        vertical-align: middle;\n",
       "    }\n",
       "\n",
       "    .dataframe tbody tr th {\n",
       "        vertical-align: top;\n",
       "    }\n",
       "\n",
       "    .dataframe thead th {\n",
       "        text-align: right;\n",
       "    }\n",
       "</style>\n",
       "<table border=\"1\" class=\"dataframe\">\n",
       "  <thead>\n",
       "    <tr style=\"text-align: right;\">\n",
       "      <th></th>\n",
       "      <th>SQUAREID</th>\n",
       "      <th>HIGH_POW</th>\n",
       "      <th>PRED</th>\n",
       "    </tr>\n",
       "  </thead>\n",
       "  <tbody>\n",
       "    <tr>\n",
       "      <th>0</th>\n",
       "      <td>4850</td>\n",
       "      <td>0</td>\n",
       "      <td>1.0</td>\n",
       "    </tr>\n",
       "    <tr>\n",
       "      <th>1</th>\n",
       "      <td>4850</td>\n",
       "      <td>1</td>\n",
       "      <td>1.0</td>\n",
       "    </tr>\n",
       "    <tr>\n",
       "      <th>2</th>\n",
       "      <td>4966</td>\n",
       "      <td>0</td>\n",
       "      <td>1.0</td>\n",
       "    </tr>\n",
       "    <tr>\n",
       "      <th>3</th>\n",
       "      <td>4966</td>\n",
       "      <td>1</td>\n",
       "      <td>1.0</td>\n",
       "    </tr>\n",
       "    <tr>\n",
       "      <th>4</th>\n",
       "      <td>4967</td>\n",
       "      <td>1</td>\n",
       "      <td>1.0</td>\n",
       "    </tr>\n",
       "    <tr>\n",
       "      <th>5</th>\n",
       "      <td>4968</td>\n",
       "      <td>0</td>\n",
       "      <td>1.0</td>\n",
       "    </tr>\n",
       "    <tr>\n",
       "      <th>6</th>\n",
       "      <td>4968</td>\n",
       "      <td>1</td>\n",
       "      <td>1.0</td>\n",
       "    </tr>\n",
       "    <tr>\n",
       "      <th>7</th>\n",
       "      <td>5082</td>\n",
       "      <td>0</td>\n",
       "      <td>0.0</td>\n",
       "    </tr>\n",
       "    <tr>\n",
       "      <th>8</th>\n",
       "      <td>5083</td>\n",
       "      <td>1</td>\n",
       "      <td>1.0</td>\n",
       "    </tr>\n",
       "    <tr>\n",
       "      <th>9</th>\n",
       "      <td>5084</td>\n",
       "      <td>1</td>\n",
       "      <td>1.0</td>\n",
       "    </tr>\n",
       "    <tr>\n",
       "      <th>10</th>\n",
       "      <td>5085</td>\n",
       "      <td>0</td>\n",
       "      <td>1.0</td>\n",
       "    </tr>\n",
       "    <tr>\n",
       "      <th>11</th>\n",
       "      <td>5085</td>\n",
       "      <td>1</td>\n",
       "      <td>1.0</td>\n",
       "    </tr>\n",
       "    <tr>\n",
       "      <th>12</th>\n",
       "      <td>5086</td>\n",
       "      <td>0</td>\n",
       "      <td>1.0</td>\n",
       "    </tr>\n",
       "    <tr>\n",
       "      <th>13</th>\n",
       "      <td>5086</td>\n",
       "      <td>1</td>\n",
       "      <td>1.0</td>\n",
       "    </tr>\n",
       "    <tr>\n",
       "      <th>14</th>\n",
       "      <td>5199</td>\n",
       "      <td>0</td>\n",
       "      <td>0.0</td>\n",
       "    </tr>\n",
       "    <tr>\n",
       "      <th>15</th>\n",
       "      <td>5200</td>\n",
       "      <td>1</td>\n",
       "      <td>1.0</td>\n",
       "    </tr>\n",
       "    <tr>\n",
       "      <th>16</th>\n",
       "      <td>5201</td>\n",
       "      <td>1</td>\n",
       "      <td>1.0</td>\n",
       "    </tr>\n",
       "    <tr>\n",
       "      <th>17</th>\n",
       "      <td>5202</td>\n",
       "      <td>1</td>\n",
       "      <td>1.0</td>\n",
       "    </tr>\n",
       "    <tr>\n",
       "      <th>18</th>\n",
       "      <td>5203</td>\n",
       "      <td>1</td>\n",
       "      <td>1.0</td>\n",
       "    </tr>\n",
       "    <tr>\n",
       "      <th>19</th>\n",
       "      <td>5204</td>\n",
       "      <td>0</td>\n",
       "      <td>0.0</td>\n",
       "    </tr>\n",
       "    <tr>\n",
       "      <th>20</th>\n",
       "      <td>5316</td>\n",
       "      <td>0</td>\n",
       "      <td>0.0</td>\n",
       "    </tr>\n",
       "    <tr>\n",
       "      <th>21</th>\n",
       "      <td>5317</td>\n",
       "      <td>1</td>\n",
       "      <td>1.0</td>\n",
       "    </tr>\n",
       "    <tr>\n",
       "      <th>22</th>\n",
       "      <td>5318</td>\n",
       "      <td>1</td>\n",
       "      <td>1.0</td>\n",
       "    </tr>\n",
       "    <tr>\n",
       "      <th>23</th>\n",
       "      <td>5319</td>\n",
       "      <td>1</td>\n",
       "      <td>1.0</td>\n",
       "    </tr>\n",
       "    <tr>\n",
       "      <th>24</th>\n",
       "      <td>5320</td>\n",
       "      <td>0</td>\n",
       "      <td>0.0</td>\n",
       "    </tr>\n",
       "    <tr>\n",
       "      <th>25</th>\n",
       "      <td>5433</td>\n",
       "      <td>0</td>\n",
       "      <td>0.0</td>\n",
       "    </tr>\n",
       "    <tr>\n",
       "      <th>26</th>\n",
       "      <td>5433</td>\n",
       "      <td>1</td>\n",
       "      <td>1.0</td>\n",
       "    </tr>\n",
       "    <tr>\n",
       "      <th>27</th>\n",
       "      <td>5434</td>\n",
       "      <td>1</td>\n",
       "      <td>1.0</td>\n",
       "    </tr>\n",
       "    <tr>\n",
       "      <th>28</th>\n",
       "      <td>5435</td>\n",
       "      <td>1</td>\n",
       "      <td>1.0</td>\n",
       "    </tr>\n",
       "    <tr>\n",
       "      <th>29</th>\n",
       "      <td>5436</td>\n",
       "      <td>0</td>\n",
       "      <td>0.0</td>\n",
       "    </tr>\n",
       "    <tr>\n",
       "      <th>30</th>\n",
       "      <td>5437</td>\n",
       "      <td>0</td>\n",
       "      <td>0.0</td>\n",
       "    </tr>\n",
       "    <tr>\n",
       "      <th>31</th>\n",
       "      <td>5550</td>\n",
       "      <td>1</td>\n",
       "      <td>1.0</td>\n",
       "    </tr>\n",
       "    <tr>\n",
       "      <th>32</th>\n",
       "      <td>5551</td>\n",
       "      <td>1</td>\n",
       "      <td>1.0</td>\n",
       "    </tr>\n",
       "    <tr>\n",
       "      <th>33</th>\n",
       "      <td>5552</td>\n",
       "      <td>0</td>\n",
       "      <td>0.0</td>\n",
       "    </tr>\n",
       "  </tbody>\n",
       "</table>\n",
       "</div>"
      ],
      "text/plain": [
       "    SQUAREID  HIGH_POW  PRED\n",
       "0       4850         0   1.0\n",
       "1       4850         1   1.0\n",
       "2       4966         0   1.0\n",
       "3       4966         1   1.0\n",
       "4       4967         1   1.0\n",
       "5       4968         0   1.0\n",
       "6       4968         1   1.0\n",
       "7       5082         0   0.0\n",
       "8       5083         1   1.0\n",
       "9       5084         1   1.0\n",
       "10      5085         0   1.0\n",
       "11      5085         1   1.0\n",
       "12      5086         0   1.0\n",
       "13      5086         1   1.0\n",
       "14      5199         0   0.0\n",
       "15      5200         1   1.0\n",
       "16      5201         1   1.0\n",
       "17      5202         1   1.0\n",
       "18      5203         1   1.0\n",
       "19      5204         0   0.0\n",
       "20      5316         0   0.0\n",
       "21      5317         1   1.0\n",
       "22      5318         1   1.0\n",
       "23      5319         1   1.0\n",
       "24      5320         0   0.0\n",
       "25      5433         0   0.0\n",
       "26      5433         1   1.0\n",
       "27      5434         1   1.0\n",
       "28      5435         1   1.0\n",
       "29      5436         0   0.0\n",
       "30      5437         0   0.0\n",
       "31      5550         1   1.0\n",
       "32      5551         1   1.0\n",
       "33      5552         0   0.0"
      ]
     },
     "execution_count": 26,
     "metadata": {},
     "output_type": "execute_result"
    }
   ],
   "source": [
    "y_prob =  best_lr_day.predict_proba(scal.transform(X))[:, 1]\n",
    "df_day_trento['PRED']=(y_prob >= best_threshold).astype(int)\n",
    "df_day_trento.groupby([\"SQUAREID\",\"HIGH_POW\"])[[\"PRED\"]].mean().reset_index()"
   ]
  },
  {
   "cell_type": "code",
   "execution_count": 27,
   "id": "196e352f",
   "metadata": {},
   "outputs": [
    {
     "data": {
      "text/html": [
       "<div>\n",
       "<style scoped>\n",
       "    .dataframe tbody tr th:only-of-type {\n",
       "        vertical-align: middle;\n",
       "    }\n",
       "\n",
       "    .dataframe tbody tr th {\n",
       "        vertical-align: top;\n",
       "    }\n",
       "\n",
       "    .dataframe thead th {\n",
       "        text-align: right;\n",
       "    }\n",
       "</style>\n",
       "<table border=\"1\" class=\"dataframe\">\n",
       "  <thead>\n",
       "    <tr style=\"text-align: right;\">\n",
       "      <th></th>\n",
       "      <th>SQUAREID</th>\n",
       "      <th>geometry</th>\n",
       "      <th>HIGH_POW</th>\n",
       "      <th>PRED</th>\n",
       "    </tr>\n",
       "  </thead>\n",
       "  <tbody>\n",
       "    <tr>\n",
       "      <th>0</th>\n",
       "      <td>38</td>\n",
       "      <td>POLYGON ((10.91462 45.68201, 10.92746 45.68179...</td>\n",
       "      <td>NaN</td>\n",
       "      <td>NaN</td>\n",
       "    </tr>\n",
       "    <tr>\n",
       "      <th>1</th>\n",
       "      <td>39</td>\n",
       "      <td>POLYGON ((10.92746 45.68179, 10.94029 45.68157...</td>\n",
       "      <td>NaN</td>\n",
       "      <td>NaN</td>\n",
       "    </tr>\n",
       "    <tr>\n",
       "      <th>2</th>\n",
       "      <td>40</td>\n",
       "      <td>POLYGON ((10.94029 45.68157, 10.95312 45.68136...</td>\n",
       "      <td>NaN</td>\n",
       "      <td>NaN</td>\n",
       "    </tr>\n",
       "    <tr>\n",
       "      <th>3</th>\n",
       "      <td>154</td>\n",
       "      <td>POLYGON ((10.90209 45.69122, 10.91493 45.69100...</td>\n",
       "      <td>NaN</td>\n",
       "      <td>NaN</td>\n",
       "    </tr>\n",
       "    <tr>\n",
       "      <th>4</th>\n",
       "      <td>155</td>\n",
       "      <td>POLYGON ((10.91493 45.69100, 10.92777 45.69079...</td>\n",
       "      <td>NaN</td>\n",
       "      <td>NaN</td>\n",
       "    </tr>\n",
       "    <tr>\n",
       "      <th>...</th>\n",
       "      <td>...</td>\n",
       "      <td>...</td>\n",
       "      <td>...</td>\n",
       "      <td>...</td>\n",
       "    </tr>\n",
       "    <tr>\n",
       "      <th>7718</th>\n",
       "      <td>11336</td>\n",
       "      <td>POLYGON ((11.80475 46.52767, 11.81777 46.52735...</td>\n",
       "      <td>NaN</td>\n",
       "      <td>NaN</td>\n",
       "    </tr>\n",
       "    <tr>\n",
       "      <th>7719</th>\n",
       "      <td>11337</td>\n",
       "      <td>POLYGON ((11.81777 46.52735, 11.83080 46.52703...</td>\n",
       "      <td>NaN</td>\n",
       "      <td>NaN</td>\n",
       "    </tr>\n",
       "    <tr>\n",
       "      <th>7720</th>\n",
       "      <td>11452</td>\n",
       "      <td>POLYGON ((11.79219 46.53698, 11.80521 46.53666...</td>\n",
       "      <td>NaN</td>\n",
       "      <td>NaN</td>\n",
       "    </tr>\n",
       "    <tr>\n",
       "      <th>7721</th>\n",
       "      <td>11453</td>\n",
       "      <td>POLYGON ((11.80521 46.53666, 11.81824 46.53634...</td>\n",
       "      <td>NaN</td>\n",
       "      <td>NaN</td>\n",
       "    </tr>\n",
       "    <tr>\n",
       "      <th>7722</th>\n",
       "      <td>11454</td>\n",
       "      <td>POLYGON ((11.81824 46.53634, 11.83126 46.53601...</td>\n",
       "      <td>NaN</td>\n",
       "      <td>NaN</td>\n",
       "    </tr>\n",
       "  </tbody>\n",
       "</table>\n",
       "<p>7723 rows × 4 columns</p>\n",
       "</div>"
      ],
      "text/plain": [
       "      SQUAREID                                           geometry  HIGH_POW  \\\n",
       "0           38  POLYGON ((10.91462 45.68201, 10.92746 45.68179...       NaN   \n",
       "1           39  POLYGON ((10.92746 45.68179, 10.94029 45.68157...       NaN   \n",
       "2           40  POLYGON ((10.94029 45.68157, 10.95312 45.68136...       NaN   \n",
       "3          154  POLYGON ((10.90209 45.69122, 10.91493 45.69100...       NaN   \n",
       "4          155  POLYGON ((10.91493 45.69100, 10.92777 45.69079...       NaN   \n",
       "...        ...                                                ...       ...   \n",
       "7718     11336  POLYGON ((11.80475 46.52767, 11.81777 46.52735...       NaN   \n",
       "7719     11337  POLYGON ((11.81777 46.52735, 11.83080 46.52703...       NaN   \n",
       "7720     11452  POLYGON ((11.79219 46.53698, 11.80521 46.53666...       NaN   \n",
       "7721     11453  POLYGON ((11.80521 46.53666, 11.81824 46.53634...       NaN   \n",
       "7722     11454  POLYGON ((11.81824 46.53634, 11.83126 46.53601...       NaN   \n",
       "\n",
       "      PRED  \n",
       "0      NaN  \n",
       "1      NaN  \n",
       "2      NaN  \n",
       "3      NaN  \n",
       "4      NaN  \n",
       "...    ...  \n",
       "7718   NaN  \n",
       "7719   NaN  \n",
       "7720   NaN  \n",
       "7721   NaN  \n",
       "7722   NaN  \n",
       "\n",
       "[7723 rows x 4 columns]"
      ]
     },
     "execution_count": 27,
     "metadata": {},
     "output_type": "execute_result"
    }
   ],
   "source": [
    "import geopandas as gpd\n",
    "df_grid = gp.read_file(\"./data_trentino/raw/trentino-grid.geojson\")\n",
    "df_grid = df_grid.rename(columns={\"cellId\": \"SQUAREID\"})\n",
    "df_grid[['SQUAREID','geometry']]\n",
    "df_grid=df_grid.merge(df_day_trento[[\"SQUAREID\",\"HIGH_POW\",'PRED']],on='SQUAREID',how='left')\n",
    "df_grid"
   ]
  },
  {
   "cell_type": "code",
   "execution_count": 28,
   "id": "6ee721f8",
   "metadata": {},
   "outputs": [],
   "source": [
    "df_grid['Category'] = 'Unknown'  \n",
    "\n",
    "df_grid.loc[(df_grid['HIGH_POW'] > 0.5) & (df_grid['PRED'] > 0.5), 'Category'] = 'Real Positive'\n",
    "df_grid.loc[(df_grid['HIGH_POW'] > 0.5) & (df_grid['PRED'] < 0.5), 'Category'] = 'False Negative'\n",
    "df_grid.loc[(df_grid['HIGH_POW'] <0.5) & (df_grid['PRED'] > 0.5), 'Category'] = 'False Positive'\n",
    "df_grid.loc[(df_grid['HIGH_POW'] < 0.5) & (df_grid['PRED'] < 0.5), 'Category'] = 'Real Negative'\n",
    "\n",
    "df_grid.dropna(inplace=True)"
   ]
  },
  {
   "cell_type": "code",
   "execution_count": 29,
   "id": "5992232e",
   "metadata": {},
   "outputs": [
    {
     "data": {
      "image/png": "[encoded data removed]",
      "text/plain": [
       "<Figure size 900x900 with 1 Axes>"
      ]
     },
     "metadata": {},
     "output_type": "display_data"
    }
   ],
   "source": [
    "import matplotlib.patches as mpatches\n",
    "fig, ax = plt.subplots(figsize=(9, 9))\n",
    "\n",
    "df_grid.plot(column='Category', legend=True,ax=ax, cmap='Set3')\n",
    "\n",
    "ax.set_title('Zone Categories')\n",
    "\n",
    "# Plot the custom legend\n",
    "\n",
    "plt.show()"
   ]
  },
  {
   "cell_type": "markdown",
   "id": "1b84996b",
   "metadata": {},
   "source": [
    "Osservando la mappa delle previsioni, possiamo notare che sono presenti solo due zone catalogate come falsi positivi, ovvero erroneamente identificate come zone urbane. Al contrario, non sono presenti zone classificate come falsi negativi, ossia zone urbane che sono state erroneamente considerate come zone non urbane. Questo risultato suggerisce che il modello ha una buona capacità di identificare correttamente le zone urbane, riducendo al minimo i falsi negativi."
   ]
  },
  {
   "cell_type": "markdown",
   "id": "5d2876e8",
   "metadata": {},
   "source": [
    "Ripetiamo lo stesso procedimento con le zone della fascia oraria notturna"
   ]
  },
  {
   "cell_type": "code",
   "execution_count": 36,
   "id": "0d320ecf",
   "metadata": {},
   "outputs": [
    {
     "data": {
      "text/html": [
       "<div>\n",
       "<style scoped>\n",
       "    .dataframe tbody tr th:only-of-type {\n",
       "        vertical-align: middle;\n",
       "    }\n",
       "\n",
       "    .dataframe tbody tr th {\n",
       "        vertical-align: top;\n",
       "    }\n",
       "\n",
       "    .dataframe thead th {\n",
       "        text-align: right;\n",
       "    }\n",
       "</style>\n",
       "<table border=\"1\" class=\"dataframe\">\n",
       "  <thead>\n",
       "    <tr style=\"text-align: right;\">\n",
       "      <th></th>\n",
       "      <th>SQUAREID</th>\n",
       "      <th>DAY</th>\n",
       "      <th>DAY_ID</th>\n",
       "      <th>LUN</th>\n",
       "      <th>MAR</th>\n",
       "      <th>MER</th>\n",
       "      <th>GIO</th>\n",
       "      <th>VEN</th>\n",
       "      <th>SQUARE_UBICAZIONI</th>\n",
       "      <th>NR_LINES</th>\n",
       "      <th>DAWN</th>\n",
       "      <th>SUNSET</th>\n",
       "      <th>DAYLENGHT</th>\n",
       "      <th>minTemperature</th>\n",
       "      <th>maxTemperature</th>\n",
       "      <th>POWER</th>\n",
       "      <th>HIGH_POW</th>\n",
       "    </tr>\n",
       "  </thead>\n",
       "  <tbody>\n",
       "    <tr>\n",
       "      <th>0</th>\n",
       "      <td>4850</td>\n",
       "      <td>1</td>\n",
       "      <td>4</td>\n",
       "      <td>0</td>\n",
       "      <td>0</td>\n",
       "      <td>0</td>\n",
       "      <td>0</td>\n",
       "      <td>1</td>\n",
       "      <td>285</td>\n",
       "      <td>5</td>\n",
       "      <td>417</td>\n",
       "      <td>1020</td>\n",
       "      <td>603</td>\n",
       "      <td>11.7</td>\n",
       "      <td>16.0</td>\n",
       "      <td>18.654491</td>\n",
       "      <td>0</td>\n",
       "    </tr>\n",
       "    <tr>\n",
       "      <th>1</th>\n",
       "      <td>4850</td>\n",
       "      <td>4</td>\n",
       "      <td>0</td>\n",
       "      <td>1</td>\n",
       "      <td>0</td>\n",
       "      <td>0</td>\n",
       "      <td>0</td>\n",
       "      <td>0</td>\n",
       "      <td>285</td>\n",
       "      <td>5</td>\n",
       "      <td>421</td>\n",
       "      <td>1016</td>\n",
       "      <td>594</td>\n",
       "      <td>7.4</td>\n",
       "      <td>9.8</td>\n",
       "      <td>20.159526</td>\n",
       "      <td>1</td>\n",
       "    </tr>\n",
       "    <tr>\n",
       "      <th>2</th>\n",
       "      <td>4850</td>\n",
       "      <td>5</td>\n",
       "      <td>1</td>\n",
       "      <td>0</td>\n",
       "      <td>1</td>\n",
       "      <td>0</td>\n",
       "      <td>0</td>\n",
       "      <td>0</td>\n",
       "      <td>285</td>\n",
       "      <td>5</td>\n",
       "      <td>422</td>\n",
       "      <td>1014</td>\n",
       "      <td>592</td>\n",
       "      <td>7.5</td>\n",
       "      <td>15.4</td>\n",
       "      <td>20.001810</td>\n",
       "      <td>1</td>\n",
       "    </tr>\n",
       "    <tr>\n",
       "      <th>3</th>\n",
       "      <td>4850</td>\n",
       "      <td>6</td>\n",
       "      <td>2</td>\n",
       "      <td>0</td>\n",
       "      <td>0</td>\n",
       "      <td>1</td>\n",
       "      <td>0</td>\n",
       "      <td>0</td>\n",
       "      <td>285</td>\n",
       "      <td>5</td>\n",
       "      <td>424</td>\n",
       "      <td>1013</td>\n",
       "      <td>589</td>\n",
       "      <td>7.9</td>\n",
       "      <td>14.3</td>\n",
       "      <td>19.875357</td>\n",
       "      <td>1</td>\n",
       "    </tr>\n",
       "    <tr>\n",
       "      <th>4</th>\n",
       "      <td>4850</td>\n",
       "      <td>7</td>\n",
       "      <td>3</td>\n",
       "      <td>0</td>\n",
       "      <td>0</td>\n",
       "      <td>0</td>\n",
       "      <td>1</td>\n",
       "      <td>0</td>\n",
       "      <td>285</td>\n",
       "      <td>5</td>\n",
       "      <td>425</td>\n",
       "      <td>1012</td>\n",
       "      <td>586</td>\n",
       "      <td>6.1</td>\n",
       "      <td>15.6</td>\n",
       "      <td>20.866417</td>\n",
       "      <td>1</td>\n",
       "    </tr>\n",
       "    <tr>\n",
       "      <th>...</th>\n",
       "      <td>...</td>\n",
       "      <td>...</td>\n",
       "      <td>...</td>\n",
       "      <td>...</td>\n",
       "      <td>...</td>\n",
       "      <td>...</td>\n",
       "      <td>...</td>\n",
       "      <td>...</td>\n",
       "      <td>...</td>\n",
       "      <td>...</td>\n",
       "      <td>...</td>\n",
       "      <td>...</td>\n",
       "      <td>...</td>\n",
       "      <td>...</td>\n",
       "      <td>...</td>\n",
       "      <td>...</td>\n",
       "      <td>...</td>\n",
       "    </tr>\n",
       "    <tr>\n",
       "      <th>1171</th>\n",
       "      <td>5552</td>\n",
       "      <td>25</td>\n",
       "      <td>0</td>\n",
       "      <td>1</td>\n",
       "      <td>0</td>\n",
       "      <td>0</td>\n",
       "      <td>0</td>\n",
       "      <td>0</td>\n",
       "      <td>133</td>\n",
       "      <td>1</td>\n",
       "      <td>450</td>\n",
       "      <td>994</td>\n",
       "      <td>543</td>\n",
       "      <td>2.4</td>\n",
       "      <td>10.4</td>\n",
       "      <td>6.911507</td>\n",
       "      <td>0</td>\n",
       "    </tr>\n",
       "    <tr>\n",
       "      <th>1172</th>\n",
       "      <td>5552</td>\n",
       "      <td>26</td>\n",
       "      <td>1</td>\n",
       "      <td>0</td>\n",
       "      <td>1</td>\n",
       "      <td>0</td>\n",
       "      <td>0</td>\n",
       "      <td>0</td>\n",
       "      <td>133</td>\n",
       "      <td>1</td>\n",
       "      <td>451</td>\n",
       "      <td>993</td>\n",
       "      <td>541</td>\n",
       "      <td>2.4</td>\n",
       "      <td>6.7</td>\n",
       "      <td>6.945511</td>\n",
       "      <td>0</td>\n",
       "    </tr>\n",
       "    <tr>\n",
       "      <th>1173</th>\n",
       "      <td>5552</td>\n",
       "      <td>27</td>\n",
       "      <td>2</td>\n",
       "      <td>0</td>\n",
       "      <td>0</td>\n",
       "      <td>1</td>\n",
       "      <td>0</td>\n",
       "      <td>0</td>\n",
       "      <td>133</td>\n",
       "      <td>1</td>\n",
       "      <td>453</td>\n",
       "      <td>992</td>\n",
       "      <td>539</td>\n",
       "      <td>-0.3</td>\n",
       "      <td>4.9</td>\n",
       "      <td>6.951886</td>\n",
       "      <td>0</td>\n",
       "    </tr>\n",
       "    <tr>\n",
       "      <th>1174</th>\n",
       "      <td>5552</td>\n",
       "      <td>28</td>\n",
       "      <td>3</td>\n",
       "      <td>0</td>\n",
       "      <td>0</td>\n",
       "      <td>0</td>\n",
       "      <td>1</td>\n",
       "      <td>0</td>\n",
       "      <td>133</td>\n",
       "      <td>1</td>\n",
       "      <td>454</td>\n",
       "      <td>992</td>\n",
       "      <td>538</td>\n",
       "      <td>-2.6</td>\n",
       "      <td>5.0</td>\n",
       "      <td>6.935628</td>\n",
       "      <td>0</td>\n",
       "    </tr>\n",
       "    <tr>\n",
       "      <th>1175</th>\n",
       "      <td>5552</td>\n",
       "      <td>29</td>\n",
       "      <td>4</td>\n",
       "      <td>0</td>\n",
       "      <td>0</td>\n",
       "      <td>0</td>\n",
       "      <td>0</td>\n",
       "      <td>1</td>\n",
       "      <td>133</td>\n",
       "      <td>1</td>\n",
       "      <td>455</td>\n",
       "      <td>991</td>\n",
       "      <td>536</td>\n",
       "      <td>-1.6</td>\n",
       "      <td>6.2</td>\n",
       "      <td>6.901731</td>\n",
       "      <td>0</td>\n",
       "    </tr>\n",
       "  </tbody>\n",
       "</table>\n",
       "<p>1176 rows × 17 columns</p>\n",
       "</div>"
      ],
      "text/plain": [
       "      SQUAREID  DAY  DAY_ID  LUN  MAR  MER  GIO  VEN  SQUARE_UBICAZIONI  \\\n",
       "0         4850    1       4    0    0    0    0    1                285   \n",
       "1         4850    4       0    1    0    0    0    0                285   \n",
       "2         4850    5       1    0    1    0    0    0                285   \n",
       "3         4850    6       2    0    0    1    0    0                285   \n",
       "4         4850    7       3    0    0    0    1    0                285   \n",
       "...        ...  ...     ...  ...  ...  ...  ...  ...                ...   \n",
       "1171      5552   25       0    1    0    0    0    0                133   \n",
       "1172      5552   26       1    0    1    0    0    0                133   \n",
       "1173      5552   27       2    0    0    1    0    0                133   \n",
       "1174      5552   28       3    0    0    0    1    0                133   \n",
       "1175      5552   29       4    0    0    0    0    1                133   \n",
       "\n",
       "      NR_LINES  DAWN  SUNSET  DAYLENGHT  minTemperature  maxTemperature  \\\n",
       "0            5   417    1020        603            11.7            16.0   \n",
       "1            5   421    1016        594             7.4             9.8   \n",
       "2            5   422    1014        592             7.5            15.4   \n",
       "3            5   424    1013        589             7.9            14.3   \n",
       "4            5   425    1012        586             6.1            15.6   \n",
       "...        ...   ...     ...        ...             ...             ...   \n",
       "1171         1   450     994        543             2.4            10.4   \n",
       "1172         1   451     993        541             2.4             6.7   \n",
       "1173         1   453     992        539            -0.3             4.9   \n",
       "1174         1   454     992        538            -2.6             5.0   \n",
       "1175         1   455     991        536            -1.6             6.2   \n",
       "\n",
       "          POWER  HIGH_POW  \n",
       "0     18.654491         0  \n",
       "1     20.159526         1  \n",
       "2     20.001810         1  \n",
       "3     19.875357         1  \n",
       "4     20.866417         1  \n",
       "...         ...       ...  \n",
       "1171   6.911507         0  \n",
       "1172   6.945511         0  \n",
       "1173   6.951886         0  \n",
       "1174   6.935628         0  \n",
       "1175   6.901731         0  \n",
       "\n",
       "[1176 rows x 17 columns]"
      ]
     },
     "execution_count": 36,
     "metadata": {},
     "output_type": "execute_result"
    }
   ],
   "source": [
    "df_night_trento_nov=pd.read_csv(\"class/df_night_trento_nov.csv\")\n",
    "df_night_trento_nov.drop(columns=['Unnamed: 0','SAB','DOM','TRENTO'],inplace=True)\n",
    "df_night_trento_dec=pd.read_csv(\"class/df_night_trento_nov.csv\")\n",
    "df_night_trento_dec.drop(columns=['Unnamed: 0','SAB','DOM','TRENTO'],inplace=True)\n",
    "df_night_trento=pd.concat([df_night_trento_nov, df_night_trento_dec], ignore_index=True)\n",
    "df_night_trento['HIGH_POW']=df_day_trento['HIGH_POW']\n",
    "df_night_trento"
   ]
  },
  {
   "cell_type": "code",
   "execution_count": 37,
   "id": "08e020e2",
   "metadata": {
    "scrolled": true
   },
   "outputs": [
    {
     "data": {
      "text/plain": [
       "SQUAREID             0\n",
       "DAY                  0\n",
       "DAY_ID               0\n",
       "LUN                  0\n",
       "MAR                  0\n",
       "MER                  0\n",
       "GIO                  0\n",
       "VEN                  0\n",
       "SQUARE_UBICAZIONI    0\n",
       "NR_LINES             0\n",
       "DAWN                 0\n",
       "SUNSET               0\n",
       "DAYLENGHT            0\n",
       "minTemperature       0\n",
       "maxTemperature       0\n",
       "POWER                0\n",
       "HIGH_POW             0\n",
       "dtype: int64"
      ]
     },
     "execution_count": 37,
     "metadata": {},
     "output_type": "execute_result"
    }
   ],
   "source": [
    "df_night_trento.isnull().sum()"
   ]
  },
  {
   "cell_type": "code",
   "execution_count": 38,
   "id": "8bb10c29",
   "metadata": {},
   "outputs": [],
   "source": [
    "X=df_night_trento.drop(columns=['SQUAREID','POWER','DAY','DAWN','SUNSET','HIGH_POW'])\n",
    "scal = StandardScaler()\n",
    "Y=df_night_trento['HIGH_POW']\n",
    "X_train,X_other,Y_train,Y_other=train_test_split(X,Y,test_size=0.4,random_state=0)\n",
    "X_valid = X_other[:len(X_other)//2]\n",
    "X_test = X_other[len(X_other)//2:]\n",
    "Y_valid = Y_other[:len(Y_other)//2]\n",
    "Y_test = Y_other[len(Y_other)//2:]\n",
    "scal.fit(X)\n",
    "X_train=scal.transform(X_train)\n",
    "X_valid=scal.transform(X_valid)\n",
    "X_test=scal.transform(X_test)\n"
   ]
  },
  {
   "cell_type": "markdown",
   "id": "eac415cf",
   "metadata": {},
   "source": [
    "A questo punto creiamo il primo classificatore con regolarizzazione elasticnet e lo alleniamo con i dati di train"
   ]
  },
  {
   "cell_type": "code",
   "execution_count": 39,
   "id": "6a0200a1",
   "metadata": {},
   "outputs": [],
   "source": [
    "LR_night = LogisticRegressionCV(penalty='elasticnet',solver='saga',l1_ratios=[0,0.25,0.5,0.75,1.0],max_iter=2000,tol=0.001,cv=20)"
   ]
  },
  {
   "cell_type": "code",
   "execution_count": 40,
   "id": "01e4e32c",
   "metadata": {
    "scrolled": true
   },
   "outputs": [
    {
     "data": {
      "text/html": [
       "<style>#sk-container-id-4 {color: black;}#sk-container-id-4 pre{padding: 0;}#sk-container-id-4 div.sk-toggleable {background-color: white;}#sk-container-id-4 label.sk-toggleable__label {cursor: pointer;display: block;width: 100%;margin-bottom: 0;padding: 0.3em;box-sizing: border-box;text-align: center;}#sk-container-id-4 label.sk-toggleable__label-arrow:before {content: \"▸\";float: left;margin-right: 0.25em;color: #696969;}#sk-container-id-4 label.sk-toggleable__label-arrow:hover:before {color: black;}#sk-container-id-4 div.sk-estimator:hover label.sk-toggleable__label-arrow:before {color: black;}#sk-container-id-4 div.sk-toggleable__content {max-height: 0;max-width: 0;overflow: hidden;text-align: left;background-color: #f0f8ff;}#sk-container-id-4 div.sk-toggleable__content pre {margin: 0.2em;color: black;border-radius: 0.25em;background-color: #f0f8ff;}#sk-container-id-4 input.sk-toggleable__control:checked~div.sk-toggleable__content {max-height: 200px;max-width: 100%;overflow: auto;}#sk-container-id-4 input.sk-toggleable__control:checked~label.sk-toggleable__label-arrow:before {content: \"▾\";}#sk-container-id-4 div.sk-estimator input.sk-toggleable__control:checked~label.sk-toggleable__label {background-color: #d4ebff;}#sk-container-id-4 div.sk-label input.sk-toggleable__control:checked~label.sk-toggleable__label {background-color: #d4ebff;}#sk-container-id-4 input.sk-hidden--visually {border: 0;clip: rect(1px 1px 1px 1px);clip: rect(1px, 1px, 1px, 1px);height: 1px;margin: -1px;overflow: hidden;padding: 0;position: absolute;width: 1px;}#sk-container-id-4 div.sk-estimator {font-family: monospace;background-color: #f0f8ff;border: 1px dotted black;border-radius: 0.25em;box-sizing: border-box;margin-bottom: 0.5em;}#sk-container-id-4 div.sk-estimator:hover {background-color: #d4ebff;}#sk-container-id-4 div.sk-parallel-item::after {content: \"\";width: 100%;border-bottom: 1px solid gray;flex-grow: 1;}#sk-container-id-4 div.sk-label:hover label.sk-toggleable__label {background-color: #d4ebff;}#sk-container-id-4 div.sk-serial::before {content: \"\";position: absolute;border-left: 1px solid gray;box-sizing: border-box;top: 0;bottom: 0;left: 50%;z-index: 0;}#sk-container-id-4 div.sk-serial {display: flex;flex-direction: column;align-items: center;background-color: white;padding-right: 0.2em;padding-left: 0.2em;position: relative;}#sk-container-id-4 div.sk-item {position: relative;z-index: 1;}#sk-container-id-4 div.sk-parallel {display: flex;align-items: stretch;justify-content: center;background-color: white;position: relative;}#sk-container-id-4 div.sk-item::before, #sk-container-id-4 div.sk-parallel-item::before {content: \"\";position: absolute;border-left: 1px solid gray;box-sizing: border-box;top: 0;bottom: 0;left: 50%;z-index: -1;}#sk-container-id-4 div.sk-parallel-item {display: flex;flex-direction: column;z-index: 1;position: relative;background-color: white;}#sk-container-id-4 div.sk-parallel-item:first-child::after {align-self: flex-end;width: 50%;}#sk-container-id-4 div.sk-parallel-item:last-child::after {align-self: flex-start;width: 50%;}#sk-container-id-4 div.sk-parallel-item:only-child::after {width: 0;}#sk-container-id-4 div.sk-dashed-wrapped {border: 1px dashed gray;margin: 0 0.4em 0.5em 0.4em;box-sizing: border-box;padding-bottom: 0.4em;background-color: white;}#sk-container-id-4 div.sk-label label {font-family: monospace;font-weight: bold;display: inline-block;line-height: 1.2em;}#sk-container-id-4 div.sk-label-container {text-align: center;}#sk-container-id-4 div.sk-container {/* jupyter's `normalize.less` sets `[hidden] { display: none; }` but bootstrap.min.css set `[hidden] { display: none !important; }` so we also need the `!important` here to be able to override the default hidden behavior on the sphinx rendered scikit-learn.org. See: https://github.com/scikit-learn/scikit-learn/issues/21755 */display: inline-block !important;position: relative;}#sk-container-id-4 div.sk-text-repr-fallback {display: none;}</style><div id=\"sk-container-id-4\" class=\"sk-top-container\"><div class=\"sk-text-repr-fallback\"><pre>LogisticRegressionCV(cv=20, l1_ratios=[0, 0.25, 0.5, 0.75, 1.0], max_iter=2000,\n",
       "                     penalty=&#x27;elasticnet&#x27;, solver=&#x27;saga&#x27;, tol=0.001)</pre><b>In a Jupyter environment, please rerun this cell to show the HTML representation or trust the notebook. <br />On GitHub, the HTML representation is unable to render, please try loading this page with nbviewer.org.</b></div><div class=\"sk-container\" hidden><div class=\"sk-item\"><div class=\"sk-estimator sk-toggleable\"><input class=\"sk-toggleable__control sk-hidden--visually\" id=\"sk-estimator-id-6\" type=\"checkbox\" checked><label for=\"sk-estimator-id-6\" class=\"sk-toggleable__label sk-toggleable__label-arrow\">LogisticRegressionCV</label><div class=\"sk-toggleable__content\"><pre>LogisticRegressionCV(cv=20, l1_ratios=[0, 0.25, 0.5, 0.75, 1.0], max_iter=2000,\n",
       "                     penalty=&#x27;elasticnet&#x27;, solver=&#x27;saga&#x27;, tol=0.001)</pre></div></div></div></div></div>"
      ],
      "text/plain": [
       "LogisticRegressionCV(cv=20, l1_ratios=[0, 0.25, 0.5, 0.75, 1.0], max_iter=2000,\n",
       "                     penalty='elasticnet', solver='saga', tol=0.001)"
      ]
     },
     "execution_count": 40,
     "metadata": {},
     "output_type": "execute_result"
    }
   ],
   "source": [
    "LR_night.fit(X_train,Y_train)\n"
   ]
  },
  {
   "cell_type": "markdown",
   "id": "077939ed",
   "metadata": {},
   "source": [
    "Visualizziamo l'importanza delle features del modello tramite un istogramma"
   ]
  },
  {
   "cell_type": "code",
   "execution_count": 41,
   "id": "d4a2e3ae",
   "metadata": {},
   "outputs": [
    {
     "data": {
      "text/plain": [
       "Text(0.5, 1.0, 'Pesi LR_night')"
      ]
     },
     "execution_count": 41,
     "metadata": {},
     "output_type": "execute_result"
    },
    {
     "data": {
      "image/png": "[encoded data removed]",
      "text/plain": [
       "<Figure size 600x600 with 1 Axes>"
      ]
     },
     "metadata": {},
     "output_type": "display_data"
    }
   ],
   "source": [
    "features = X.columns.to_numpy().reshape(-1)  # Trasformo l'array in un vettore unidimensionale\n",
    "weights = LR_night.coef_.flatten()  \n",
    "df_w = pd.DataFrame({'features': features, 'weights': weights})\n",
    "ax = df_w.plot.barh(y='weights', x='features', figsize=(6, 6))\n",
    "ax.set_ylabel('Features')\n",
    "ax.set_title('Pesi LR_night')"
   ]
  },
  {
   "cell_type": "markdown",
   "id": "69eff4d4",
   "metadata": {},
   "source": [
    "L'importanza delle features ha un andamento molto simile al modello per la previsione dei dati della fascia oraria 9-18"
   ]
  },
  {
   "cell_type": "markdown",
   "id": "a070c47d",
   "metadata": {},
   "source": [
    "Valutiamo il classificatore creato e creiamo la matrice di confusione"
   ]
  },
  {
   "cell_type": "code",
   "execution_count": 42,
   "id": "254b21e4",
   "metadata": {
    "scrolled": false
   },
   "outputs": [
    {
     "name": "stdout",
     "output_type": "stream",
     "text": [
      "Accuracy: 0.8765957446808511\n",
      "Precision: 0.8859060402684564\n",
      "Recall: 0.9166666666666666\n",
      "F1 Score: 0.901023890784983\n",
      "True Positive Rate: 0.9166666666666666\n",
      "False Positive Rate: 0.18681318681318682\n"
     ]
    }
   ],
   "source": [
    "evaluate_classifier(LR_night, X_valid, Y_valid)"
   ]
  },
  {
   "cell_type": "code",
   "execution_count": 43,
   "id": "b69a4c79",
   "metadata": {
    "scrolled": false
   },
   "outputs": [
    {
     "data": {
      "image/png": "[encoded data removed]",
      "text/plain": [
       "<Figure size 640x480 with 2 Axes>"
      ]
     },
     "metadata": {},
     "output_type": "display_data"
    }
   ],
   "source": [
    "disp_cf(LR_night, X_valid, Y_valid)"
   ]
  },
  {
   "cell_type": "markdown",
   "id": "ec410818",
   "metadata": {},
   "source": [
    "In questo caso la matrice di confusione è identica a quella ottenuta precedentemente"
   ]
  },
  {
   "cell_type": "markdown",
   "id": "c2ee7149",
   "metadata": {},
   "source": [
    "Come fatto in precedenza,cerchiamo il modello ottimale tramite una GridSearch"
   ]
  },
  {
   "cell_type": "markdown",
   "id": "b6ec5e62",
   "metadata": {},
   "source": [
    "Stampiamo i parametri del modello migliore"
   ]
  },
  {
   "cell_type": "code",
   "execution_count": 44,
   "id": "ea4c6af3",
   "metadata": {
    "scrolled": true
   },
   "outputs": [
    {
     "name": "stdout",
     "output_type": "stream",
     "text": [
      "Best parameters: {'logreg__C': 0.0774263682681127, 'logreg__class_weight': 'balanced', 'logreg__penalty': 'l1', 'logreg__solver': 'saga'}\n"
     ]
    }
   ],
   "source": [
    "best_lr_night=train_regression_model(pipe_lr,param_grid,10,X_train,Y_train)"
   ]
  },
  {
   "cell_type": "code",
   "execution_count": 45,
   "id": "ab88af5c",
   "metadata": {},
   "outputs": [
    {
     "data": {
      "text/plain": [
       "0.902127659574468"
      ]
     },
     "execution_count": 45,
     "metadata": {},
     "output_type": "execute_result"
    }
   ],
   "source": [
    "best_lr_night.score(X_valid,Y_valid)"
   ]
  },
  {
   "cell_type": "code",
   "execution_count": 46,
   "id": "beab3d46",
   "metadata": {
    "scrolled": true
   },
   "outputs": [
    {
     "name": "stdout",
     "output_type": "stream",
     "text": [
      "Accuracy: 0.902127659574468\n",
      "Precision: 0.9230769230769231\n",
      "Recall: 0.9166666666666666\n",
      "F1 Score: 0.9198606271777002\n",
      "True Positive Rate: 0.9166666666666666\n",
      "False Positive Rate: 0.12087912087912088\n"
     ]
    }
   ],
   "source": [
    "evaluate_classifier(best_lr_night, X_valid, Y_valid)"
   ]
  },
  {
   "cell_type": "markdown",
   "id": "841febec",
   "metadata": {},
   "source": [
    "Confrontiamo le curve Roc e le Auc dei due classificatori"
   ]
  },
  {
   "cell_type": "code",
   "execution_count": 47,
   "id": "26baa81b",
   "metadata": {
    "scrolled": true
   },
   "outputs": [
    {
     "data": {
      "image/png": "[encoded data removed]",
      "text/plain": [
       "<Figure size 640x480 with 1 Axes>"
      ]
     },
     "metadata": {},
     "output_type": "display_data"
    },
    {
     "name": "stdout",
     "output_type": "stream",
     "text": [
      "Model 1 AUC: 0.9676434676434675\n",
      "Model 2 AUC: 0.9718406593406593\n"
     ]
    }
   ],
   "source": [
    "plot_roc_curve(LR_night, best_lr_night, X_valid, Y_valid)"
   ]
  },
  {
   "cell_type": "markdown",
   "id": "5ca05db0",
   "metadata": {},
   "source": [
    "Anche in questo caso il modello trovato con la GridSearch è leggermente migliore rispetto a 'LR_night'"
   ]
  },
  {
   "cell_type": "code",
   "execution_count": 48,
   "id": "c1368709",
   "metadata": {},
   "outputs": [],
   "source": [
    "pr,rec, th = precision_recall_curve(Y_valid,  best_lr_night.predict_proba(X_valid)[:,1])"
   ]
  },
  {
   "cell_type": "markdown",
   "id": "cb29e669",
   "metadata": {},
   "source": [
    "Visualizziamo adesso l'andamento della precisione e della recall in funzione della threshold"
   ]
  },
  {
   "cell_type": "code",
   "execution_count": 49,
   "id": "6968ce90",
   "metadata": {},
   "outputs": [
    {
     "data": {
      "text/plain": [
       "Text(0, 0.5, 'recall')"
      ]
     },
     "execution_count": 49,
     "metadata": {},
     "output_type": "execute_result"
    },
    {
     "data": {
      "image/png": "[encoded data removed]",
      "text/plain": [
       "<Figure size 640x480 with 2 Axes>"
      ]
     },
     "metadata": {},
     "output_type": "display_data"
    }
   ],
   "source": [
    "ax = sns.lineplot(x=th, y =pr[:-1], label='precision')\n",
    "ax2 = sns.lineplot(x=th,y=rec[:-1],label='recall',ax=ax.twinx(),color='red')\n",
    "ax.set_xlabel('threshold')\n",
    "ax.set_ylabel('precision')\n",
    "ax2.set_ylabel('recall')"
   ]
  },
  {
   "cell_type": "markdown",
   "id": "2a0d9e93",
   "metadata": {},
   "source": [
    "Come fatto in precedenza,cerchiamo la soglia che masimizza lo score f1"
   ]
  },
  {
   "cell_type": "code",
   "execution_count": 50,
   "id": "10a218b6",
   "metadata": {},
   "outputs": [
    {
     "name": "stdout",
     "output_type": "stream",
     "text": [
      "Best Threshold: 0.12870808452469426\n"
     ]
    }
   ],
   "source": [
    "f1_scores = 2 * (pr * rec) / (pr + rec)\n",
    "best_threshold = th[np.argmax(f1_scores)]\n",
    "print(\"Best Threshold:\", best_threshold)"
   ]
  },
  {
   "cell_type": "code",
   "execution_count": 51,
   "id": "8039a10c",
   "metadata": {},
   "outputs": [
    {
     "data": {
      "text/plain": [
       "<sklearn.metrics._plot.confusion_matrix.ConfusionMatrixDisplay at 0x2632e14e2f0>"
      ]
     },
     "execution_count": 51,
     "metadata": {},
     "output_type": "execute_result"
    },
    {
     "data": {
      "image/png": "[encoded data removed]",
      "text/plain": [
       "<Figure size 640x480 with 2 Axes>"
      ]
     },
     "metadata": {},
     "output_type": "display_data"
    }
   ],
   "source": [
    "y_prob =  best_lr_night.predict_proba(X_valid)[:, 1]\n",
    "y_pred = (y_prob >= best_threshold).astype(int)\n",
    "cm = confusion_matrix(Y_valid,y_pred, labels= best_lr_day.classes_)\n",
    "disp = ConfusionMatrixDisplay(confusion_matrix=cm,\n",
    "                           display_labels= best_lr_day.classes_)\n",
    "disp.plot()"
   ]
  },
  {
   "cell_type": "markdown",
   "id": "06dbfbac",
   "metadata": {},
   "source": [
    "A questo punto rifacciamo il train su l'insieme train + valid, e valutiamo il modello confrontandolo con i dati test"
   ]
  },
  {
   "cell_type": "code",
   "execution_count": 52,
   "id": "cffcbc70",
   "metadata": {},
   "outputs": [
    {
     "data": {
      "text/html": [
       "<style>#sk-container-id-5 {color: black;}#sk-container-id-5 pre{padding: 0;}#sk-container-id-5 div.sk-toggleable {background-color: white;}#sk-container-id-5 label.sk-toggleable__label {cursor: pointer;display: block;width: 100%;margin-bottom: 0;padding: 0.3em;box-sizing: border-box;text-align: center;}#sk-container-id-5 label.sk-toggleable__label-arrow:before {content: \"▸\";float: left;margin-right: 0.25em;color: #696969;}#sk-container-id-5 label.sk-toggleable__label-arrow:hover:before {color: black;}#sk-container-id-5 div.sk-estimator:hover label.sk-toggleable__label-arrow:before {color: black;}#sk-container-id-5 div.sk-toggleable__content {max-height: 0;max-width: 0;overflow: hidden;text-align: left;background-color: #f0f8ff;}#sk-container-id-5 div.sk-toggleable__content pre {margin: 0.2em;color: black;border-radius: 0.25em;background-color: #f0f8ff;}#sk-container-id-5 input.sk-toggleable__control:checked~div.sk-toggleable__content {max-height: 200px;max-width: 100%;overflow: auto;}#sk-container-id-5 input.sk-toggleable__control:checked~label.sk-toggleable__label-arrow:before {content: \"▾\";}#sk-container-id-5 div.sk-estimator input.sk-toggleable__control:checked~label.sk-toggleable__label {background-color: #d4ebff;}#sk-container-id-5 div.sk-label input.sk-toggleable__control:checked~label.sk-toggleable__label {background-color: #d4ebff;}#sk-container-id-5 input.sk-hidden--visually {border: 0;clip: rect(1px 1px 1px 1px);clip: rect(1px, 1px, 1px, 1px);height: 1px;margin: -1px;overflow: hidden;padding: 0;position: absolute;width: 1px;}#sk-container-id-5 div.sk-estimator {font-family: monospace;background-color: #f0f8ff;border: 1px dotted black;border-radius: 0.25em;box-sizing: border-box;margin-bottom: 0.5em;}#sk-container-id-5 div.sk-estimator:hover {background-color: #d4ebff;}#sk-container-id-5 div.sk-parallel-item::after {content: \"\";width: 100%;border-bottom: 1px solid gray;flex-grow: 1;}#sk-container-id-5 div.sk-label:hover label.sk-toggleable__label {background-color: #d4ebff;}#sk-container-id-5 div.sk-serial::before {content: \"\";position: absolute;border-left: 1px solid gray;box-sizing: border-box;top: 0;bottom: 0;left: 50%;z-index: 0;}#sk-container-id-5 div.sk-serial {display: flex;flex-direction: column;align-items: center;background-color: white;padding-right: 0.2em;padding-left: 0.2em;position: relative;}#sk-container-id-5 div.sk-item {position: relative;z-index: 1;}#sk-container-id-5 div.sk-parallel {display: flex;align-items: stretch;justify-content: center;background-color: white;position: relative;}#sk-container-id-5 div.sk-item::before, #sk-container-id-5 div.sk-parallel-item::before {content: \"\";position: absolute;border-left: 1px solid gray;box-sizing: border-box;top: 0;bottom: 0;left: 50%;z-index: -1;}#sk-container-id-5 div.sk-parallel-item {display: flex;flex-direction: column;z-index: 1;position: relative;background-color: white;}#sk-container-id-5 div.sk-parallel-item:first-child::after {align-self: flex-end;width: 50%;}#sk-container-id-5 div.sk-parallel-item:last-child::after {align-self: flex-start;width: 50%;}#sk-container-id-5 div.sk-parallel-item:only-child::after {width: 0;}#sk-container-id-5 div.sk-dashed-wrapped {border: 1px dashed gray;margin: 0 0.4em 0.5em 0.4em;box-sizing: border-box;padding-bottom: 0.4em;background-color: white;}#sk-container-id-5 div.sk-label label {font-family: monospace;font-weight: bold;display: inline-block;line-height: 1.2em;}#sk-container-id-5 div.sk-label-container {text-align: center;}#sk-container-id-5 div.sk-container {/* jupyter's `normalize.less` sets `[hidden] { display: none; }` but bootstrap.min.css set `[hidden] { display: none !important; }` so we also need the `!important` here to be able to override the default hidden behavior on the sphinx rendered scikit-learn.org. See: https://github.com/scikit-learn/scikit-learn/issues/21755 */display: inline-block !important;position: relative;}#sk-container-id-5 div.sk-text-repr-fallback {display: none;}</style><div id=\"sk-container-id-5\" class=\"sk-top-container\"><div class=\"sk-text-repr-fallback\"><pre>Pipeline(steps=[(&#x27;scaler&#x27;, StandardScaler()),\n",
       "                (&#x27;logreg&#x27;,\n",
       "                 LogisticRegression(C=0.0774263682681127,\n",
       "                                    class_weight=&#x27;balanced&#x27;, max_iter=2000,\n",
       "                                    penalty=&#x27;l1&#x27;, solver=&#x27;saga&#x27;))])</pre><b>In a Jupyter environment, please rerun this cell to show the HTML representation or trust the notebook. <br />On GitHub, the HTML representation is unable to render, please try loading this page with nbviewer.org.</b></div><div class=\"sk-container\" hidden><div class=\"sk-item sk-dashed-wrapped\"><div class=\"sk-label-container\"><div class=\"sk-label sk-toggleable\"><input class=\"sk-toggleable__control sk-hidden--visually\" id=\"sk-estimator-id-7\" type=\"checkbox\" ><label for=\"sk-estimator-id-7\" class=\"sk-toggleable__label sk-toggleable__label-arrow\">Pipeline</label><div class=\"sk-toggleable__content\"><pre>Pipeline(steps=[(&#x27;scaler&#x27;, StandardScaler()),\n",
       "                (&#x27;logreg&#x27;,\n",
       "                 LogisticRegression(C=0.0774263682681127,\n",
       "                                    class_weight=&#x27;balanced&#x27;, max_iter=2000,\n",
       "                                    penalty=&#x27;l1&#x27;, solver=&#x27;saga&#x27;))])</pre></div></div></div><div class=\"sk-serial\"><div class=\"sk-item\"><div class=\"sk-estimator sk-toggleable\"><input class=\"sk-toggleable__control sk-hidden--visually\" id=\"sk-estimator-id-8\" type=\"checkbox\" ><label for=\"sk-estimator-id-8\" class=\"sk-toggleable__label sk-toggleable__label-arrow\">StandardScaler</label><div class=\"sk-toggleable__content\"><pre>StandardScaler()</pre></div></div></div><div class=\"sk-item\"><div class=\"sk-estimator sk-toggleable\"><input class=\"sk-toggleable__control sk-hidden--visually\" id=\"sk-estimator-id-9\" type=\"checkbox\" ><label for=\"sk-estimator-id-9\" class=\"sk-toggleable__label sk-toggleable__label-arrow\">LogisticRegression</label><div class=\"sk-toggleable__content\"><pre>LogisticRegression(C=0.0774263682681127, class_weight=&#x27;balanced&#x27;, max_iter=2000,\n",
       "                   penalty=&#x27;l1&#x27;, solver=&#x27;saga&#x27;)</pre></div></div></div></div></div></div></div>"
      ],
      "text/plain": [
       "Pipeline(steps=[('scaler', StandardScaler()),\n",
       "                ('logreg',\n",
       "                 LogisticRegression(C=0.0774263682681127,\n",
       "                                    class_weight='balanced', max_iter=2000,\n",
       "                                    penalty='l1', solver='saga'))])"
      ]
     },
     "execution_count": 52,
     "metadata": {},
     "output_type": "execute_result"
    }
   ],
   "source": [
    "X_final=np.concatenate([X_train, X_valid])\n",
    "Y_final=np.concatenate([Y_train, Y_valid])\n",
    "best_lr_night.fit(X_final,Y_final)"
   ]
  },
  {
   "cell_type": "code",
   "execution_count": 53,
   "id": "54963122",
   "metadata": {
    "scrolled": true
   },
   "outputs": [
    {
     "name": "stdout",
     "output_type": "stream",
     "text": [
      "Accuracy: 0.8983050847457628\n",
      "Precision: 0.9246575342465754\n",
      "Recall: 0.9121621621621622\n",
      "F1 Score: 0.9183673469387755\n",
      "True Positive Rate: 0.9121621621621622\n",
      "False Positive Rate: 0.125\n"
     ]
    }
   ],
   "source": [
    "evaluate_classifier(best_lr_night, X_test, Y_test)"
   ]
  },
  {
   "cell_type": "code",
   "execution_count": 54,
   "id": "7337160f",
   "metadata": {},
   "outputs": [
    {
     "data": {
      "text/plain": [
       "<sklearn.metrics._plot.confusion_matrix.ConfusionMatrixDisplay at 0x2632e214a00>"
      ]
     },
     "execution_count": 54,
     "metadata": {},
     "output_type": "execute_result"
    },
    {
     "data": {
      "image/png": "[encoded data removed]",
      "text/plain": [
       "<Figure size 640x480 with 2 Axes>"
      ]
     },
     "metadata": {},
     "output_type": "display_data"
    }
   ],
   "source": [
    "y_prob =  best_lr_night.predict_proba(X_test)[:, 1]\n",
    "y_pred = (y_prob >= best_threshold).astype(int)\n",
    "cm = confusion_matrix(Y_test,y_pred, labels= best_lr_day.classes_)\n",
    "disp = ConfusionMatrixDisplay(confusion_matrix=cm,\n",
    "                           display_labels= best_lr_day.classes_)\n",
    "disp.plot()"
   ]
  },
  {
   "cell_type": "markdown",
   "id": "50efa99d",
   "metadata": {},
   "source": [
    "Mostriamo i dati sulla mappa di Trento"
   ]
  },
  {
   "cell_type": "code",
   "execution_count": 55,
   "id": "b234105c",
   "metadata": {},
   "outputs": [
    {
     "data": {
      "text/html": [
       "<div>\n",
       "<style scoped>\n",
       "    .dataframe tbody tr th:only-of-type {\n",
       "        vertical-align: middle;\n",
       "    }\n",
       "\n",
       "    .dataframe tbody tr th {\n",
       "        vertical-align: top;\n",
       "    }\n",
       "\n",
       "    .dataframe thead th {\n",
       "        text-align: right;\n",
       "    }\n",
       "</style>\n",
       "<table border=\"1\" class=\"dataframe\">\n",
       "  <thead>\n",
       "    <tr style=\"text-align: right;\">\n",
       "      <th></th>\n",
       "      <th>SQUAREID</th>\n",
       "      <th>HIGH_POW</th>\n",
       "      <th>PRED</th>\n",
       "    </tr>\n",
       "  </thead>\n",
       "  <tbody>\n",
       "    <tr>\n",
       "      <th>0</th>\n",
       "      <td>4850</td>\n",
       "      <td>0</td>\n",
       "      <td>1.0</td>\n",
       "    </tr>\n",
       "    <tr>\n",
       "      <th>1</th>\n",
       "      <td>4850</td>\n",
       "      <td>1</td>\n",
       "      <td>1.0</td>\n",
       "    </tr>\n",
       "    <tr>\n",
       "      <th>2</th>\n",
       "      <td>4966</td>\n",
       "      <td>0</td>\n",
       "      <td>1.0</td>\n",
       "    </tr>\n",
       "    <tr>\n",
       "      <th>3</th>\n",
       "      <td>4966</td>\n",
       "      <td>1</td>\n",
       "      <td>1.0</td>\n",
       "    </tr>\n",
       "    <tr>\n",
       "      <th>4</th>\n",
       "      <td>4967</td>\n",
       "      <td>1</td>\n",
       "      <td>1.0</td>\n",
       "    </tr>\n",
       "    <tr>\n",
       "      <th>5</th>\n",
       "      <td>4968</td>\n",
       "      <td>0</td>\n",
       "      <td>1.0</td>\n",
       "    </tr>\n",
       "    <tr>\n",
       "      <th>6</th>\n",
       "      <td>4968</td>\n",
       "      <td>1</td>\n",
       "      <td>1.0</td>\n",
       "    </tr>\n",
       "    <tr>\n",
       "      <th>7</th>\n",
       "      <td>5082</td>\n",
       "      <td>0</td>\n",
       "      <td>0.0</td>\n",
       "    </tr>\n",
       "    <tr>\n",
       "      <th>8</th>\n",
       "      <td>5083</td>\n",
       "      <td>1</td>\n",
       "      <td>1.0</td>\n",
       "    </tr>\n",
       "    <tr>\n",
       "      <th>9</th>\n",
       "      <td>5084</td>\n",
       "      <td>1</td>\n",
       "      <td>1.0</td>\n",
       "    </tr>\n",
       "    <tr>\n",
       "      <th>10</th>\n",
       "      <td>5085</td>\n",
       "      <td>0</td>\n",
       "      <td>1.0</td>\n",
       "    </tr>\n",
       "    <tr>\n",
       "      <th>11</th>\n",
       "      <td>5085</td>\n",
       "      <td>1</td>\n",
       "      <td>1.0</td>\n",
       "    </tr>\n",
       "    <tr>\n",
       "      <th>12</th>\n",
       "      <td>5086</td>\n",
       "      <td>0</td>\n",
       "      <td>1.0</td>\n",
       "    </tr>\n",
       "    <tr>\n",
       "      <th>13</th>\n",
       "      <td>5086</td>\n",
       "      <td>1</td>\n",
       "      <td>1.0</td>\n",
       "    </tr>\n",
       "    <tr>\n",
       "      <th>14</th>\n",
       "      <td>5199</td>\n",
       "      <td>0</td>\n",
       "      <td>0.0</td>\n",
       "    </tr>\n",
       "    <tr>\n",
       "      <th>15</th>\n",
       "      <td>5200</td>\n",
       "      <td>1</td>\n",
       "      <td>1.0</td>\n",
       "    </tr>\n",
       "    <tr>\n",
       "      <th>16</th>\n",
       "      <td>5201</td>\n",
       "      <td>1</td>\n",
       "      <td>1.0</td>\n",
       "    </tr>\n",
       "    <tr>\n",
       "      <th>17</th>\n",
       "      <td>5202</td>\n",
       "      <td>1</td>\n",
       "      <td>1.0</td>\n",
       "    </tr>\n",
       "    <tr>\n",
       "      <th>18</th>\n",
       "      <td>5203</td>\n",
       "      <td>1</td>\n",
       "      <td>1.0</td>\n",
       "    </tr>\n",
       "    <tr>\n",
       "      <th>19</th>\n",
       "      <td>5204</td>\n",
       "      <td>0</td>\n",
       "      <td>0.0</td>\n",
       "    </tr>\n",
       "    <tr>\n",
       "      <th>20</th>\n",
       "      <td>5316</td>\n",
       "      <td>0</td>\n",
       "      <td>0.0</td>\n",
       "    </tr>\n",
       "    <tr>\n",
       "      <th>21</th>\n",
       "      <td>5317</td>\n",
       "      <td>1</td>\n",
       "      <td>1.0</td>\n",
       "    </tr>\n",
       "    <tr>\n",
       "      <th>22</th>\n",
       "      <td>5318</td>\n",
       "      <td>1</td>\n",
       "      <td>1.0</td>\n",
       "    </tr>\n",
       "    <tr>\n",
       "      <th>23</th>\n",
       "      <td>5319</td>\n",
       "      <td>1</td>\n",
       "      <td>1.0</td>\n",
       "    </tr>\n",
       "    <tr>\n",
       "      <th>24</th>\n",
       "      <td>5320</td>\n",
       "      <td>0</td>\n",
       "      <td>0.0</td>\n",
       "    </tr>\n",
       "    <tr>\n",
       "      <th>25</th>\n",
       "      <td>5433</td>\n",
       "      <td>0</td>\n",
       "      <td>0.0</td>\n",
       "    </tr>\n",
       "    <tr>\n",
       "      <th>26</th>\n",
       "      <td>5433</td>\n",
       "      <td>1</td>\n",
       "      <td>1.0</td>\n",
       "    </tr>\n",
       "    <tr>\n",
       "      <th>27</th>\n",
       "      <td>5434</td>\n",
       "      <td>1</td>\n",
       "      <td>1.0</td>\n",
       "    </tr>\n",
       "    <tr>\n",
       "      <th>28</th>\n",
       "      <td>5435</td>\n",
       "      <td>1</td>\n",
       "      <td>1.0</td>\n",
       "    </tr>\n",
       "    <tr>\n",
       "      <th>29</th>\n",
       "      <td>5436</td>\n",
       "      <td>0</td>\n",
       "      <td>0.0</td>\n",
       "    </tr>\n",
       "    <tr>\n",
       "      <th>30</th>\n",
       "      <td>5437</td>\n",
       "      <td>0</td>\n",
       "      <td>0.0</td>\n",
       "    </tr>\n",
       "    <tr>\n",
       "      <th>31</th>\n",
       "      <td>5550</td>\n",
       "      <td>1</td>\n",
       "      <td>1.0</td>\n",
       "    </tr>\n",
       "    <tr>\n",
       "      <th>32</th>\n",
       "      <td>5551</td>\n",
       "      <td>1</td>\n",
       "      <td>1.0</td>\n",
       "    </tr>\n",
       "    <tr>\n",
       "      <th>33</th>\n",
       "      <td>5552</td>\n",
       "      <td>0</td>\n",
       "      <td>0.0</td>\n",
       "    </tr>\n",
       "  </tbody>\n",
       "</table>\n",
       "</div>"
      ],
      "text/plain": [
       "    SQUAREID  HIGH_POW  PRED\n",
       "0       4850         0   1.0\n",
       "1       4850         1   1.0\n",
       "2       4966         0   1.0\n",
       "3       4966         1   1.0\n",
       "4       4967         1   1.0\n",
       "5       4968         0   1.0\n",
       "6       4968         1   1.0\n",
       "7       5082         0   0.0\n",
       "8       5083         1   1.0\n",
       "9       5084         1   1.0\n",
       "10      5085         0   1.0\n",
       "11      5085         1   1.0\n",
       "12      5086         0   1.0\n",
       "13      5086         1   1.0\n",
       "14      5199         0   0.0\n",
       "15      5200         1   1.0\n",
       "16      5201         1   1.0\n",
       "17      5202         1   1.0\n",
       "18      5203         1   1.0\n",
       "19      5204         0   0.0\n",
       "20      5316         0   0.0\n",
       "21      5317         1   1.0\n",
       "22      5318         1   1.0\n",
       "23      5319         1   1.0\n",
       "24      5320         0   0.0\n",
       "25      5433         0   0.0\n",
       "26      5433         1   1.0\n",
       "27      5434         1   1.0\n",
       "28      5435         1   1.0\n",
       "29      5436         0   0.0\n",
       "30      5437         0   0.0\n",
       "31      5550         1   1.0\n",
       "32      5551         1   1.0\n",
       "33      5552         0   0.0"
      ]
     },
     "execution_count": 55,
     "metadata": {},
     "output_type": "execute_result"
    }
   ],
   "source": [
    "y_prob =  best_lr_night.predict_proba(scal.transform(X))[:, 1]\n",
    "df_day_trento['PRED']=(y_prob >= best_threshold).astype(int)\n",
    "df_day_trento.groupby([\"SQUAREID\",\"HIGH_POW\"])[[\"PRED\"]].mean().reset_index()"
   ]
  },
  {
   "cell_type": "code",
   "execution_count": 56,
   "id": "108e1cc7",
   "metadata": {},
   "outputs": [
    {
     "data": {
      "text/html": [
       "<div>\n",
       "<style scoped>\n",
       "    .dataframe tbody tr th:only-of-type {\n",
       "        vertical-align: middle;\n",
       "    }\n",
       "\n",
       "    .dataframe tbody tr th {\n",
       "        vertical-align: top;\n",
       "    }\n",
       "\n",
       "    .dataframe thead th {\n",
       "        text-align: right;\n",
       "    }\n",
       "</style>\n",
       "<table border=\"1\" class=\"dataframe\">\n",
       "  <thead>\n",
       "    <tr style=\"text-align: right;\">\n",
       "      <th></th>\n",
       "      <th>SQUAREID</th>\n",
       "      <th>geometry</th>\n",
       "      <th>HIGH_POW</th>\n",
       "      <th>PRED</th>\n",
       "    </tr>\n",
       "  </thead>\n",
       "  <tbody>\n",
       "    <tr>\n",
       "      <th>0</th>\n",
       "      <td>38</td>\n",
       "      <td>POLYGON ((10.91462 45.68201, 10.92746 45.68179...</td>\n",
       "      <td>NaN</td>\n",
       "      <td>NaN</td>\n",
       "    </tr>\n",
       "    <tr>\n",
       "      <th>1</th>\n",
       "      <td>39</td>\n",
       "      <td>POLYGON ((10.92746 45.68179, 10.94029 45.68157...</td>\n",
       "      <td>NaN</td>\n",
       "      <td>NaN</td>\n",
       "    </tr>\n",
       "    <tr>\n",
       "      <th>2</th>\n",
       "      <td>40</td>\n",
       "      <td>POLYGON ((10.94029 45.68157, 10.95312 45.68136...</td>\n",
       "      <td>NaN</td>\n",
       "      <td>NaN</td>\n",
       "    </tr>\n",
       "    <tr>\n",
       "      <th>3</th>\n",
       "      <td>154</td>\n",
       "      <td>POLYGON ((10.90209 45.69122, 10.91493 45.69100...</td>\n",
       "      <td>NaN</td>\n",
       "      <td>NaN</td>\n",
       "    </tr>\n",
       "    <tr>\n",
       "      <th>4</th>\n",
       "      <td>155</td>\n",
       "      <td>POLYGON ((10.91493 45.69100, 10.92777 45.69079...</td>\n",
       "      <td>NaN</td>\n",
       "      <td>NaN</td>\n",
       "    </tr>\n",
       "    <tr>\n",
       "      <th>...</th>\n",
       "      <td>...</td>\n",
       "      <td>...</td>\n",
       "      <td>...</td>\n",
       "      <td>...</td>\n",
       "    </tr>\n",
       "    <tr>\n",
       "      <th>7718</th>\n",
       "      <td>11336</td>\n",
       "      <td>POLYGON ((11.80475 46.52767, 11.81777 46.52735...</td>\n",
       "      <td>NaN</td>\n",
       "      <td>NaN</td>\n",
       "    </tr>\n",
       "    <tr>\n",
       "      <th>7719</th>\n",
       "      <td>11337</td>\n",
       "      <td>POLYGON ((11.81777 46.52735, 11.83080 46.52703...</td>\n",
       "      <td>NaN</td>\n",
       "      <td>NaN</td>\n",
       "    </tr>\n",
       "    <tr>\n",
       "      <th>7720</th>\n",
       "      <td>11452</td>\n",
       "      <td>POLYGON ((11.79219 46.53698, 11.80521 46.53666...</td>\n",
       "      <td>NaN</td>\n",
       "      <td>NaN</td>\n",
       "    </tr>\n",
       "    <tr>\n",
       "      <th>7721</th>\n",
       "      <td>11453</td>\n",
       "      <td>POLYGON ((11.80521 46.53666, 11.81824 46.53634...</td>\n",
       "      <td>NaN</td>\n",
       "      <td>NaN</td>\n",
       "    </tr>\n",
       "    <tr>\n",
       "      <th>7722</th>\n",
       "      <td>11454</td>\n",
       "      <td>POLYGON ((11.81824 46.53634, 11.83126 46.53601...</td>\n",
       "      <td>NaN</td>\n",
       "      <td>NaN</td>\n",
       "    </tr>\n",
       "  </tbody>\n",
       "</table>\n",
       "<p>7723 rows × 4 columns</p>\n",
       "</div>"
      ],
      "text/plain": [
       "      SQUAREID                                           geometry  HIGH_POW  \\\n",
       "0           38  POLYGON ((10.91462 45.68201, 10.92746 45.68179...       NaN   \n",
       "1           39  POLYGON ((10.92746 45.68179, 10.94029 45.68157...       NaN   \n",
       "2           40  POLYGON ((10.94029 45.68157, 10.95312 45.68136...       NaN   \n",
       "3          154  POLYGON ((10.90209 45.69122, 10.91493 45.69100...       NaN   \n",
       "4          155  POLYGON ((10.91493 45.69100, 10.92777 45.69079...       NaN   \n",
       "...        ...                                                ...       ...   \n",
       "7718     11336  POLYGON ((11.80475 46.52767, 11.81777 46.52735...       NaN   \n",
       "7719     11337  POLYGON ((11.81777 46.52735, 11.83080 46.52703...       NaN   \n",
       "7720     11452  POLYGON ((11.79219 46.53698, 11.80521 46.53666...       NaN   \n",
       "7721     11453  POLYGON ((11.80521 46.53666, 11.81824 46.53634...       NaN   \n",
       "7722     11454  POLYGON ((11.81824 46.53634, 11.83126 46.53601...       NaN   \n",
       "\n",
       "      PRED  \n",
       "0      NaN  \n",
       "1      NaN  \n",
       "2      NaN  \n",
       "3      NaN  \n",
       "4      NaN  \n",
       "...    ...  \n",
       "7718   NaN  \n",
       "7719   NaN  \n",
       "7720   NaN  \n",
       "7721   NaN  \n",
       "7722   NaN  \n",
       "\n",
       "[7723 rows x 4 columns]"
      ]
     },
     "execution_count": 56,
     "metadata": {},
     "output_type": "execute_result"
    }
   ],
   "source": [
    "import geopandas as gpd\n",
    "df_grid = gp.read_file(\"./data_trentino/raw/trentino-grid.geojson\")\n",
    "df_grid = df_grid.rename(columns={\"cellId\": \"SQUAREID\"})\n",
    "df_grid[['SQUAREID','geometry']]\n",
    "df_grid=df_grid.merge(df_day_trento[[\"SQUAREID\",\"HIGH_POW\",'PRED']],on='SQUAREID',how='left')\n",
    "df_grid"
   ]
  },
  {
   "cell_type": "code",
   "execution_count": 57,
   "id": "5db4f2b2",
   "metadata": {},
   "outputs": [],
   "source": [
    "df_grid['Category'] = 'Unknown'  \n",
    "\n",
    "df_grid.loc[(df_grid['HIGH_POW'] > 0.5) & (df_grid['PRED'] > 0.5), 'Category'] = 'Real Positive'\n",
    "df_grid.loc[(df_grid['HIGH_POW'] > 0.5) & (df_grid['PRED'] < 0.5), 'Category'] = 'False Negative'\n",
    "df_grid.loc[(df_grid['HIGH_POW'] <0.5) & (df_grid['PRED'] > 0.5), 'Category'] = 'False Positive'\n",
    "df_grid.loc[(df_grid['HIGH_POW'] < 0.5) & (df_grid['PRED'] < 0.5), 'Category'] = 'Real Negative'\n",
    "\n",
    "df_grid.dropna(inplace=True)"
   ]
  },
  {
   "cell_type": "code",
   "execution_count": 58,
   "id": "0f8e3b8a",
   "metadata": {},
   "outputs": [
    {
     "data": {
      "image/png": "[encoded data removed]",
      "text/plain": [
       "<Figure size 900x900 with 1 Axes>"
      ]
     },
     "metadata": {},
     "output_type": "display_data"
    }
   ],
   "source": [
    "import matplotlib.patches as mpatches\n",
    "fig, ax = plt.subplots(figsize=(9, 9))\n",
    "\n",
    "df_grid.plot(column='Category', legend=True,ax=ax, cmap='Set3')\n",
    "\n",
    "ax.set_title('Zone Categories')\n",
    "\n",
    "# Plot the custom legend\n",
    "\n",
    "plt.show()"
   ]
  },
  {
   "cell_type": "markdown",
   "id": "0c63d29d",
   "metadata": {},
   "source": [
    "La mappa ottenuta coincide con quella ottenuta in precedenza. Concludiamo che è possibile ottenere gli stessi risultati indipendentemente dalla fascia giornaliera e quella notturna. Proviamo adesso ad utilizzare una fascia oraria più restritiva (18-19)"
   ]
  },
  {
   "cell_type": "code",
   "execution_count": 66,
   "id": "41f66502",
   "metadata": {},
   "outputs": [
    {
     "data": {
      "text/html": [
       "<div>\n",
       "<style scoped>\n",
       "    .dataframe tbody tr th:only-of-type {\n",
       "        vertical-align: middle;\n",
       "    }\n",
       "\n",
       "    .dataframe tbody tr th {\n",
       "        vertical-align: top;\n",
       "    }\n",
       "\n",
       "    .dataframe thead th {\n",
       "        text-align: right;\n",
       "    }\n",
       "</style>\n",
       "<table border=\"1\" class=\"dataframe\">\n",
       "  <thead>\n",
       "    <tr style=\"text-align: right;\">\n",
       "      <th></th>\n",
       "      <th>SQUAREID</th>\n",
       "      <th>DAY</th>\n",
       "      <th>DAY_ID</th>\n",
       "      <th>LUN</th>\n",
       "      <th>MAR</th>\n",
       "      <th>MER</th>\n",
       "      <th>GIO</th>\n",
       "      <th>VEN</th>\n",
       "      <th>SQUARE_UBICAZIONI</th>\n",
       "      <th>NR_LINES</th>\n",
       "      <th>DAWN</th>\n",
       "      <th>SUNSET</th>\n",
       "      <th>DAYLENGHT</th>\n",
       "      <th>minTemperature</th>\n",
       "      <th>maxTemperature</th>\n",
       "      <th>POWER</th>\n",
       "      <th>HIGH_POW</th>\n",
       "    </tr>\n",
       "  </thead>\n",
       "  <tbody>\n",
       "    <tr>\n",
       "      <th>0</th>\n",
       "      <td>4850</td>\n",
       "      <td>1</td>\n",
       "      <td>4</td>\n",
       "      <td>0</td>\n",
       "      <td>0</td>\n",
       "      <td>0</td>\n",
       "      <td>0</td>\n",
       "      <td>1</td>\n",
       "      <td>285</td>\n",
       "      <td>5</td>\n",
       "      <td>417</td>\n",
       "      <td>1020</td>\n",
       "      <td>603</td>\n",
       "      <td>11.7</td>\n",
       "      <td>16.0</td>\n",
       "      <td>22.222965</td>\n",
       "      <td>0</td>\n",
       "    </tr>\n",
       "    <tr>\n",
       "      <th>3</th>\n",
       "      <td>4850</td>\n",
       "      <td>4</td>\n",
       "      <td>0</td>\n",
       "      <td>1</td>\n",
       "      <td>0</td>\n",
       "      <td>0</td>\n",
       "      <td>0</td>\n",
       "      <td>0</td>\n",
       "      <td>285</td>\n",
       "      <td>5</td>\n",
       "      <td>421</td>\n",
       "      <td>1016</td>\n",
       "      <td>594</td>\n",
       "      <td>7.4</td>\n",
       "      <td>9.8</td>\n",
       "      <td>25.444795</td>\n",
       "      <td>1</td>\n",
       "    </tr>\n",
       "    <tr>\n",
       "      <th>4</th>\n",
       "      <td>4850</td>\n",
       "      <td>5</td>\n",
       "      <td>1</td>\n",
       "      <td>0</td>\n",
       "      <td>1</td>\n",
       "      <td>0</td>\n",
       "      <td>0</td>\n",
       "      <td>0</td>\n",
       "      <td>285</td>\n",
       "      <td>5</td>\n",
       "      <td>422</td>\n",
       "      <td>1014</td>\n",
       "      <td>592</td>\n",
       "      <td>7.5</td>\n",
       "      <td>15.4</td>\n",
       "      <td>24.618746</td>\n",
       "      <td>1</td>\n",
       "    </tr>\n",
       "    <tr>\n",
       "      <th>5</th>\n",
       "      <td>4850</td>\n",
       "      <td>6</td>\n",
       "      <td>2</td>\n",
       "      <td>0</td>\n",
       "      <td>0</td>\n",
       "      <td>1</td>\n",
       "      <td>0</td>\n",
       "      <td>0</td>\n",
       "      <td>285</td>\n",
       "      <td>5</td>\n",
       "      <td>424</td>\n",
       "      <td>1013</td>\n",
       "      <td>589</td>\n",
       "      <td>7.9</td>\n",
       "      <td>14.3</td>\n",
       "      <td>24.419332</td>\n",
       "      <td>1</td>\n",
       "    </tr>\n",
       "    <tr>\n",
       "      <th>6</th>\n",
       "      <td>4850</td>\n",
       "      <td>7</td>\n",
       "      <td>3</td>\n",
       "      <td>0</td>\n",
       "      <td>0</td>\n",
       "      <td>0</td>\n",
       "      <td>1</td>\n",
       "      <td>0</td>\n",
       "      <td>285</td>\n",
       "      <td>5</td>\n",
       "      <td>425</td>\n",
       "      <td>1012</td>\n",
       "      <td>586</td>\n",
       "      <td>6.1</td>\n",
       "      <td>15.6</td>\n",
       "      <td>25.166574</td>\n",
       "      <td>1</td>\n",
       "    </tr>\n",
       "    <tr>\n",
       "      <th>...</th>\n",
       "      <td>...</td>\n",
       "      <td>...</td>\n",
       "      <td>...</td>\n",
       "      <td>...</td>\n",
       "      <td>...</td>\n",
       "      <td>...</td>\n",
       "      <td>...</td>\n",
       "      <td>...</td>\n",
       "      <td>...</td>\n",
       "      <td>...</td>\n",
       "      <td>...</td>\n",
       "      <td>...</td>\n",
       "      <td>...</td>\n",
       "      <td>...</td>\n",
       "      <td>...</td>\n",
       "      <td>...</td>\n",
       "      <td>...</td>\n",
       "    </tr>\n",
       "    <tr>\n",
       "      <th>1674</th>\n",
       "      <td>5552</td>\n",
       "      <td>25</td>\n",
       "      <td>0</td>\n",
       "      <td>1</td>\n",
       "      <td>0</td>\n",
       "      <td>0</td>\n",
       "      <td>0</td>\n",
       "      <td>0</td>\n",
       "      <td>133</td>\n",
       "      <td>1</td>\n",
       "      <td>450</td>\n",
       "      <td>994</td>\n",
       "      <td>543</td>\n",
       "      <td>2.4</td>\n",
       "      <td>10.4</td>\n",
       "      <td>9.587340</td>\n",
       "      <td>0</td>\n",
       "    </tr>\n",
       "    <tr>\n",
       "      <th>1675</th>\n",
       "      <td>5552</td>\n",
       "      <td>26</td>\n",
       "      <td>1</td>\n",
       "      <td>0</td>\n",
       "      <td>1</td>\n",
       "      <td>0</td>\n",
       "      <td>0</td>\n",
       "      <td>0</td>\n",
       "      <td>133</td>\n",
       "      <td>1</td>\n",
       "      <td>451</td>\n",
       "      <td>993</td>\n",
       "      <td>541</td>\n",
       "      <td>2.4</td>\n",
       "      <td>6.7</td>\n",
       "      <td>9.649588</td>\n",
       "      <td>0</td>\n",
       "    </tr>\n",
       "    <tr>\n",
       "      <th>1676</th>\n",
       "      <td>5552</td>\n",
       "      <td>27</td>\n",
       "      <td>2</td>\n",
       "      <td>0</td>\n",
       "      <td>0</td>\n",
       "      <td>1</td>\n",
       "      <td>0</td>\n",
       "      <td>0</td>\n",
       "      <td>133</td>\n",
       "      <td>1</td>\n",
       "      <td>453</td>\n",
       "      <td>992</td>\n",
       "      <td>539</td>\n",
       "      <td>-0.3</td>\n",
       "      <td>4.9</td>\n",
       "      <td>9.671775</td>\n",
       "      <td>0</td>\n",
       "    </tr>\n",
       "    <tr>\n",
       "      <th>1677</th>\n",
       "      <td>5552</td>\n",
       "      <td>28</td>\n",
       "      <td>3</td>\n",
       "      <td>0</td>\n",
       "      <td>0</td>\n",
       "      <td>0</td>\n",
       "      <td>1</td>\n",
       "      <td>0</td>\n",
       "      <td>133</td>\n",
       "      <td>1</td>\n",
       "      <td>454</td>\n",
       "      <td>992</td>\n",
       "      <td>538</td>\n",
       "      <td>-2.6</td>\n",
       "      <td>5.0</td>\n",
       "      <td>9.502905</td>\n",
       "      <td>0</td>\n",
       "    </tr>\n",
       "    <tr>\n",
       "      <th>1678</th>\n",
       "      <td>5552</td>\n",
       "      <td>29</td>\n",
       "      <td>4</td>\n",
       "      <td>0</td>\n",
       "      <td>0</td>\n",
       "      <td>0</td>\n",
       "      <td>0</td>\n",
       "      <td>1</td>\n",
       "      <td>133</td>\n",
       "      <td>1</td>\n",
       "      <td>455</td>\n",
       "      <td>991</td>\n",
       "      <td>536</td>\n",
       "      <td>-1.6</td>\n",
       "      <td>6.2</td>\n",
       "      <td>9.551594</td>\n",
       "      <td>0</td>\n",
       "    </tr>\n",
       "  </tbody>\n",
       "</table>\n",
       "<p>1176 rows × 17 columns</p>\n",
       "</div>"
      ],
      "text/plain": [
       "      SQUAREID  DAY  DAY_ID  LUN  MAR  MER  GIO  VEN  SQUARE_UBICAZIONI  \\\n",
       "0         4850    1       4    0    0    0    0    1                285   \n",
       "3         4850    4       0    1    0    0    0    0                285   \n",
       "4         4850    5       1    0    1    0    0    0                285   \n",
       "5         4850    6       2    0    0    1    0    0                285   \n",
       "6         4850    7       3    0    0    0    1    0                285   \n",
       "...        ...  ...     ...  ...  ...  ...  ...  ...                ...   \n",
       "1674      5552   25       0    1    0    0    0    0                133   \n",
       "1675      5552   26       1    0    1    0    0    0                133   \n",
       "1676      5552   27       2    0    0    1    0    0                133   \n",
       "1677      5552   28       3    0    0    0    1    0                133   \n",
       "1678      5552   29       4    0    0    0    0    1                133   \n",
       "\n",
       "      NR_LINES  DAWN  SUNSET  DAYLENGHT  minTemperature  maxTemperature  \\\n",
       "0            5   417    1020        603            11.7            16.0   \n",
       "3            5   421    1016        594             7.4             9.8   \n",
       "4            5   422    1014        592             7.5            15.4   \n",
       "5            5   424    1013        589             7.9            14.3   \n",
       "6            5   425    1012        586             6.1            15.6   \n",
       "...        ...   ...     ...        ...             ...             ...   \n",
       "1674         1   450     994        543             2.4            10.4   \n",
       "1675         1   451     993        541             2.4             6.7   \n",
       "1676         1   453     992        539            -0.3             4.9   \n",
       "1677         1   454     992        538            -2.6             5.0   \n",
       "1678         1   455     991        536            -1.6             6.2   \n",
       "\n",
       "          POWER  HIGH_POW  \n",
       "0     22.222965         0  \n",
       "3     25.444795         1  \n",
       "4     24.618746         1  \n",
       "5     24.419332         1  \n",
       "6     25.166574         1  \n",
       "...         ...       ...  \n",
       "1674   9.587340         0  \n",
       "1675   9.649588         0  \n",
       "1676   9.671775         0  \n",
       "1677   9.502905         0  \n",
       "1678   9.551594         0  \n",
       "\n",
       "[1176 rows x 17 columns]"
      ]
     },
     "execution_count": 66,
     "metadata": {},
     "output_type": "execute_result"
    }
   ],
   "source": [
    "df_18_19_trento_nov=pd.read_csv(\"class/df_18_19_trento_nov.csv\")\n",
    "df_18_19_trento_nov.drop(columns=['Unnamed: 0','SAB','DOM','TRENTO'],inplace=True)\n",
    "df_18_19_trento_dec=pd.read_csv(\"class/df_18_19_trento_nov.csv\")\n",
    "df_18_19_trento_dec.drop(columns=['Unnamed: 0','SAB','DOM','TRENTO'],inplace=True)\n",
    "df_18_19_trento=pd.concat([df_18_19_trento_nov, df_18_19_trento_dec], ignore_index=True)\n",
    "df_18_19_trento=df_18_19_trento[df_18_19_trento['DAY_ID']<5]\n",
    "df_18_19_trento"
   ]
  },
  {
   "cell_type": "code",
   "execution_count": 67,
   "id": "303ca7de",
   "metadata": {
    "scrolled": true
   },
   "outputs": [
    {
     "data": {
      "text/plain": [
       "SQUAREID             0\n",
       "DAY                  0\n",
       "DAY_ID               0\n",
       "LUN                  0\n",
       "MAR                  0\n",
       "MER                  0\n",
       "GIO                  0\n",
       "VEN                  0\n",
       "SQUARE_UBICAZIONI    0\n",
       "NR_LINES             0\n",
       "DAWN                 0\n",
       "SUNSET               0\n",
       "DAYLENGHT            0\n",
       "minTemperature       0\n",
       "maxTemperature       0\n",
       "POWER                0\n",
       "HIGH_POW             0\n",
       "dtype: int64"
      ]
     },
     "execution_count": 67,
     "metadata": {},
     "output_type": "execute_result"
    }
   ],
   "source": [
    "df_18_19_trento.isnull().sum()"
   ]
  },
  {
   "cell_type": "code",
   "execution_count": 68,
   "id": "7db8b2cc",
   "metadata": {},
   "outputs": [],
   "source": [
    "X=df_18_19_trento.drop(columns=['SQUAREID','POWER','DAY','DAWN','SUNSET','HIGH_POW'])\n",
    "scal = StandardScaler()\n",
    "Y=df_18_19_trento['HIGH_POW']\n",
    "X_train,X_other,Y_train,Y_other=train_test_split(X,Y,test_size=0.4,random_state=0)\n",
    "X_valid = X_other[:len(X_other)//2]\n",
    "X_test = X_other[len(X_other)//2:]\n",
    "Y_valid = Y_other[:len(Y_other)//2]\n",
    "Y_test = Y_other[len(Y_other)//2:]\n",
    "scal.fit(X)\n",
    "X_train=scal.transform(X_train)\n",
    "X_valid=scal.transform(X_valid)\n",
    "X_test=scal.transform(X_test)\n"
   ]
  },
  {
   "cell_type": "markdown",
   "id": "38b294b4",
   "metadata": {},
   "source": [
    "Creiamo il primo classificatore con regolarizzazione elasticnet e lo alleniamo con i dati di train"
   ]
  },
  {
   "cell_type": "code",
   "execution_count": 69,
   "id": "2365c377",
   "metadata": {},
   "outputs": [],
   "source": [
    "LR_18_19 = LogisticRegressionCV(penalty='elasticnet',solver='saga',l1_ratios=[0,0.25,0.5,0.75,1.0],max_iter=2000,tol=0.001,cv=20)"
   ]
  },
  {
   "cell_type": "code",
   "execution_count": 70,
   "id": "150de4ae",
   "metadata": {
    "scrolled": true
   },
   "outputs": [
    {
     "data": {
      "text/html": [
       "<style>#sk-container-id-6 {color: black;}#sk-container-id-6 pre{padding: 0;}#sk-container-id-6 div.sk-toggleable {background-color: white;}#sk-container-id-6 label.sk-toggleable__label {cursor: pointer;display: block;width: 100%;margin-bottom: 0;padding: 0.3em;box-sizing: border-box;text-align: center;}#sk-container-id-6 label.sk-toggleable__label-arrow:before {content: \"▸\";float: left;margin-right: 0.25em;color: #696969;}#sk-container-id-6 label.sk-toggleable__label-arrow:hover:before {color: black;}#sk-container-id-6 div.sk-estimator:hover label.sk-toggleable__label-arrow:before {color: black;}#sk-container-id-6 div.sk-toggleable__content {max-height: 0;max-width: 0;overflow: hidden;text-align: left;background-color: #f0f8ff;}#sk-container-id-6 div.sk-toggleable__content pre {margin: 0.2em;color: black;border-radius: 0.25em;background-color: #f0f8ff;}#sk-container-id-6 input.sk-toggleable__control:checked~div.sk-toggleable__content {max-height: 200px;max-width: 100%;overflow: auto;}#sk-container-id-6 input.sk-toggleable__control:checked~label.sk-toggleable__label-arrow:before {content: \"▾\";}#sk-container-id-6 div.sk-estimator input.sk-toggleable__control:checked~label.sk-toggleable__label {background-color: #d4ebff;}#sk-container-id-6 div.sk-label input.sk-toggleable__control:checked~label.sk-toggleable__label {background-color: #d4ebff;}#sk-container-id-6 input.sk-hidden--visually {border: 0;clip: rect(1px 1px 1px 1px);clip: rect(1px, 1px, 1px, 1px);height: 1px;margin: -1px;overflow: hidden;padding: 0;position: absolute;width: 1px;}#sk-container-id-6 div.sk-estimator {font-family: monospace;background-color: #f0f8ff;border: 1px dotted black;border-radius: 0.25em;box-sizing: border-box;margin-bottom: 0.5em;}#sk-container-id-6 div.sk-estimator:hover {background-color: #d4ebff;}#sk-container-id-6 div.sk-parallel-item::after {content: \"\";width: 100%;border-bottom: 1px solid gray;flex-grow: 1;}#sk-container-id-6 div.sk-label:hover label.sk-toggleable__label {background-color: #d4ebff;}#sk-container-id-6 div.sk-serial::before {content: \"\";position: absolute;border-left: 1px solid gray;box-sizing: border-box;top: 0;bottom: 0;left: 50%;z-index: 0;}#sk-container-id-6 div.sk-serial {display: flex;flex-direction: column;align-items: center;background-color: white;padding-right: 0.2em;padding-left: 0.2em;position: relative;}#sk-container-id-6 div.sk-item {position: relative;z-index: 1;}#sk-container-id-6 div.sk-parallel {display: flex;align-items: stretch;justify-content: center;background-color: white;position: relative;}#sk-container-id-6 div.sk-item::before, #sk-container-id-6 div.sk-parallel-item::before {content: \"\";position: absolute;border-left: 1px solid gray;box-sizing: border-box;top: 0;bottom: 0;left: 50%;z-index: -1;}#sk-container-id-6 div.sk-parallel-item {display: flex;flex-direction: column;z-index: 1;position: relative;background-color: white;}#sk-container-id-6 div.sk-parallel-item:first-child::after {align-self: flex-end;width: 50%;}#sk-container-id-6 div.sk-parallel-item:last-child::after {align-self: flex-start;width: 50%;}#sk-container-id-6 div.sk-parallel-item:only-child::after {width: 0;}#sk-container-id-6 div.sk-dashed-wrapped {border: 1px dashed gray;margin: 0 0.4em 0.5em 0.4em;box-sizing: border-box;padding-bottom: 0.4em;background-color: white;}#sk-container-id-6 div.sk-label label {font-family: monospace;font-weight: bold;display: inline-block;line-height: 1.2em;}#sk-container-id-6 div.sk-label-container {text-align: center;}#sk-container-id-6 div.sk-container {/* jupyter's `normalize.less` sets `[hidden] { display: none; }` but bootstrap.min.css set `[hidden] { display: none !important; }` so we also need the `!important` here to be able to override the default hidden behavior on the sphinx rendered scikit-learn.org. See: https://github.com/scikit-learn/scikit-learn/issues/21755 */display: inline-block !important;position: relative;}#sk-container-id-6 div.sk-text-repr-fallback {display: none;}</style><div id=\"sk-container-id-6\" class=\"sk-top-container\"><div class=\"sk-text-repr-fallback\"><pre>LogisticRegressionCV(cv=20, l1_ratios=[0, 0.25, 0.5, 0.75, 1.0], max_iter=2000,\n",
       "                     penalty=&#x27;elasticnet&#x27;, solver=&#x27;saga&#x27;, tol=0.001)</pre><b>In a Jupyter environment, please rerun this cell to show the HTML representation or trust the notebook. <br />On GitHub, the HTML representation is unable to render, please try loading this page with nbviewer.org.</b></div><div class=\"sk-container\" hidden><div class=\"sk-item\"><div class=\"sk-estimator sk-toggleable\"><input class=\"sk-toggleable__control sk-hidden--visually\" id=\"sk-estimator-id-10\" type=\"checkbox\" checked><label for=\"sk-estimator-id-10\" class=\"sk-toggleable__label sk-toggleable__label-arrow\">LogisticRegressionCV</label><div class=\"sk-toggleable__content\"><pre>LogisticRegressionCV(cv=20, l1_ratios=[0, 0.25, 0.5, 0.75, 1.0], max_iter=2000,\n",
       "                     penalty=&#x27;elasticnet&#x27;, solver=&#x27;saga&#x27;, tol=0.001)</pre></div></div></div></div></div>"
      ],
      "text/plain": [
       "LogisticRegressionCV(cv=20, l1_ratios=[0, 0.25, 0.5, 0.75, 1.0], max_iter=2000,\n",
       "                     penalty='elasticnet', solver='saga', tol=0.001)"
      ]
     },
     "execution_count": 70,
     "metadata": {},
     "output_type": "execute_result"
    }
   ],
   "source": [
    "LR_18_19.fit(X_train,Y_train)\n"
   ]
  },
  {
   "cell_type": "markdown",
   "id": "e4327143",
   "metadata": {},
   "source": [
    "Visualizziamo l'importanza delle features del modello tramite un istogramma"
   ]
  },
  {
   "cell_type": "code",
   "execution_count": 71,
   "id": "718188f2",
   "metadata": {},
   "outputs": [
    {
     "data": {
      "text/plain": [
       "Text(0.5, 1.0, 'Pesi LR_night')"
      ]
     },
     "execution_count": 71,
     "metadata": {},
     "output_type": "execute_result"
    },
    {
     "data": {
      "image/png": "[encoded data removed]",
      "text/plain": [
       "<Figure size 600x600 with 1 Axes>"
      ]
     },
     "metadata": {},
     "output_type": "display_data"
    }
   ],
   "source": [
    "features = X.columns.to_numpy().reshape(-1)  # Trasformo l'array in un vettore unidimensionale\n",
    "weights = LR_18_19.coef_.flatten()  \n",
    "df_w = pd.DataFrame({'features': features, 'weights': weights})\n",
    "ax = df_w.plot.barh(y='weights', x='features', figsize=(6, 6))\n",
    "ax.set_ylabel('Features')\n",
    "ax.set_title('Pesi LR_night')"
   ]
  },
  {
   "cell_type": "markdown",
   "id": "367f78f5",
   "metadata": {},
   "source": [
    "L'importanza delle features ha un andamento molto simile ai modelli precedenti"
   ]
  },
  {
   "cell_type": "markdown",
   "id": "143e331f",
   "metadata": {},
   "source": [
    "Valutiamo il classificatore creato e creiamo la matrice di confusione"
   ]
  },
  {
   "cell_type": "code",
   "execution_count": 72,
   "id": "37a93c63",
   "metadata": {
    "scrolled": false
   },
   "outputs": [
    {
     "name": "stdout",
     "output_type": "stream",
     "text": [
      "Accuracy: 0.8765957446808511\n",
      "Precision: 0.8859060402684564\n",
      "Recall: 0.9166666666666666\n",
      "F1 Score: 0.901023890784983\n",
      "True Positive Rate: 0.9166666666666666\n",
      "False Positive Rate: 0.18681318681318682\n"
     ]
    }
   ],
   "source": [
    "evaluate_classifier(LR_18_19, X_valid, Y_valid)"
   ]
  },
  {
   "cell_type": "code",
   "execution_count": 73,
   "id": "cfdbb9b4",
   "metadata": {
    "scrolled": false
   },
   "outputs": [
    {
     "data": {
      "image/png": "[encoded data removed]",
      "text/plain": [
       "<Figure size 640x480 with 2 Axes>"
      ]
     },
     "metadata": {},
     "output_type": "display_data"
    }
   ],
   "source": [
    "disp_cf(LR_18_19, X_valid, Y_valid)"
   ]
  },
  {
   "cell_type": "markdown",
   "id": "2690b908",
   "metadata": {},
   "source": [
    "In questo caso la matrice di confusione è identica a quella ottenuta precedentemente"
   ]
  },
  {
   "cell_type": "markdown",
   "id": "7f45b2ce",
   "metadata": {},
   "source": [
    "Come fatto in precedenza,cerchiamo il modello ottimale tramite una GridSearch"
   ]
  },
  {
   "cell_type": "markdown",
   "id": "f4ccafe9",
   "metadata": {},
   "source": [
    "Stampiamo i parametri del modello migliore"
   ]
  },
  {
   "cell_type": "code",
   "execution_count": 74,
   "id": "5f5ecb7d",
   "metadata": {
    "scrolled": true
   },
   "outputs": [
    {
     "name": "stdout",
     "output_type": "stream",
     "text": [
      "Best parameters: {'logreg__C': 0.0774263682681127, 'logreg__class_weight': 'balanced', 'logreg__penalty': 'l1', 'logreg__solver': 'saga'}\n"
     ]
    }
   ],
   "source": [
    "best_lr_18_19=train_regression_model(pipe_lr,param_grid,10,X_train,Y_train)"
   ]
  },
  {
   "cell_type": "code",
   "execution_count": 75,
   "id": "d1275366",
   "metadata": {},
   "outputs": [
    {
     "data": {
      "text/plain": [
       "0.902127659574468"
      ]
     },
     "execution_count": 75,
     "metadata": {},
     "output_type": "execute_result"
    }
   ],
   "source": [
    "best_lr_18_19.score(X_valid,Y_valid)"
   ]
  },
  {
   "cell_type": "code",
   "execution_count": 76,
   "id": "31387709",
   "metadata": {
    "scrolled": true
   },
   "outputs": [
    {
     "name": "stdout",
     "output_type": "stream",
     "text": [
      "Accuracy: 0.902127659574468\n",
      "Precision: 0.9230769230769231\n",
      "Recall: 0.9166666666666666\n",
      "F1 Score: 0.9198606271777002\n",
      "True Positive Rate: 0.9166666666666666\n",
      "False Positive Rate: 0.12087912087912088\n"
     ]
    }
   ],
   "source": [
    "evaluate_classifier(best_lr_18_19, X_valid, Y_valid)"
   ]
  },
  {
   "cell_type": "markdown",
   "id": "b97d38cf",
   "metadata": {},
   "source": [
    "Confrontiamo le curve Roc e le Auc dei due classificatori"
   ]
  },
  {
   "cell_type": "code",
   "execution_count": 77,
   "id": "628b8898",
   "metadata": {
    "scrolled": true
   },
   "outputs": [
    {
     "data": {
      "image/png": "[encoded data removed]",
      "text/plain": [
       "<Figure size 640x480 with 1 Axes>"
      ]
     },
     "metadata": {},
     "output_type": "display_data"
    },
    {
     "name": "stdout",
     "output_type": "stream",
     "text": [
      "Model 1 AUC: 0.9676434676434675\n",
      "Model 2 AUC: 0.9718406593406593\n"
     ]
    }
   ],
   "source": [
    "plot_roc_curve(LR_18_19, best_lr_18_19, X_valid, Y_valid)"
   ]
  },
  {
   "cell_type": "markdown",
   "id": "5b240774",
   "metadata": {},
   "source": [
    "Anche in questo caso il modello trovato con la GridSearch è leggermente migliore rispetto a 'LR_18_19'"
   ]
  },
  {
   "cell_type": "code",
   "execution_count": 79,
   "id": "faabf950",
   "metadata": {},
   "outputs": [],
   "source": [
    "pr,rec, th = precision_recall_curve(Y_valid,  best_lr_18_19.predict_proba(X_valid)[:,1])"
   ]
  },
  {
   "cell_type": "markdown",
   "id": "45f5956d",
   "metadata": {},
   "source": [
    "Visualizziamo adesso l'andamento della precisione e della recall in funzione della threshold"
   ]
  },
  {
   "cell_type": "code",
   "execution_count": 80,
   "id": "67f08fca",
   "metadata": {},
   "outputs": [
    {
     "data": {
      "text/plain": [
       "Text(0, 0.5, 'recall')"
      ]
     },
     "execution_count": 80,
     "metadata": {},
     "output_type": "execute_result"
    },
    {
     "data": {
      "image/png": "[encoded data removed]",
      "text/plain": [
       "<Figure size 640x480 with 2 Axes>"
      ]
     },
     "metadata": {},
     "output_type": "display_data"
    }
   ],
   "source": [
    "ax = sns.lineplot(x=th, y =pr[:-1], label='precision')\n",
    "ax2 = sns.lineplot(x=th,y=rec[:-1],label='recall',ax=ax.twinx(),color='red')\n",
    "ax.set_xlabel('threshold')\n",
    "ax.set_ylabel('precision')\n",
    "ax2.set_ylabel('recall')"
   ]
  },
  {
   "cell_type": "markdown",
   "id": "956769ab",
   "metadata": {},
   "source": [
    "Come fatto in precedenza,cerchiamo la soglia che masimizza lo score f1"
   ]
  },
  {
   "cell_type": "code",
   "execution_count": 81,
   "id": "1c7dcd67",
   "metadata": {},
   "outputs": [
    {
     "name": "stdout",
     "output_type": "stream",
     "text": [
      "Best Threshold: 0.12869572135472737\n"
     ]
    }
   ],
   "source": [
    "f1_scores = 2 * (pr * rec) / (pr + rec)\n",
    "best_threshold = th[np.argmax(f1_scores)]\n",
    "print(\"Best Threshold:\", best_threshold)"
   ]
  },
  {
   "cell_type": "code",
   "execution_count": 82,
   "id": "465ac67b",
   "metadata": {},
   "outputs": [
    {
     "data": {
      "text/plain": [
       "<sklearn.metrics._plot.confusion_matrix.ConfusionMatrixDisplay at 0x2632e2148b0>"
      ]
     },
     "execution_count": 82,
     "metadata": {},
     "output_type": "execute_result"
    },
    {
     "data": {
      "image/png": "[encoded data removed]",
      "text/plain": [
       "<Figure size 640x480 with 2 Axes>"
      ]
     },
     "metadata": {},
     "output_type": "display_data"
    }
   ],
   "source": [
    "y_prob =  best_lr_18_19.predict_proba(X_valid)[:, 1]\n",
    "y_pred = (y_prob >= best_threshold).astype(int)\n",
    "cm = confusion_matrix(Y_valid,y_pred, labels= best_lr_day.classes_)\n",
    "disp = ConfusionMatrixDisplay(confusion_matrix=cm,\n",
    "                           display_labels= best_lr_day.classes_)\n",
    "disp.plot()"
   ]
  },
  {
   "cell_type": "markdown",
   "id": "5b76ad53",
   "metadata": {},
   "source": [
    "A questo punto rifacciamo il train su l'insieme train + valid, e valutiamo il modello confrontandolo con i dati test"
   ]
  },
  {
   "cell_type": "code",
   "execution_count": 83,
   "id": "97714364",
   "metadata": {},
   "outputs": [
    {
     "data": {
      "text/html": [
       "<style>#sk-container-id-7 {color: black;}#sk-container-id-7 pre{padding: 0;}#sk-container-id-7 div.sk-toggleable {background-color: white;}#sk-container-id-7 label.sk-toggleable__label {cursor: pointer;display: block;width: 100%;margin-bottom: 0;padding: 0.3em;box-sizing: border-box;text-align: center;}#sk-container-id-7 label.sk-toggleable__label-arrow:before {content: \"▸\";float: left;margin-right: 0.25em;color: #696969;}#sk-container-id-7 label.sk-toggleable__label-arrow:hover:before {color: black;}#sk-container-id-7 div.sk-estimator:hover label.sk-toggleable__label-arrow:before {color: black;}#sk-container-id-7 div.sk-toggleable__content {max-height: 0;max-width: 0;overflow: hidden;text-align: left;background-color: #f0f8ff;}#sk-container-id-7 div.sk-toggleable__content pre {margin: 0.2em;color: black;border-radius: 0.25em;background-color: #f0f8ff;}#sk-container-id-7 input.sk-toggleable__control:checked~div.sk-toggleable__content {max-height: 200px;max-width: 100%;overflow: auto;}#sk-container-id-7 input.sk-toggleable__control:checked~label.sk-toggleable__label-arrow:before {content: \"▾\";}#sk-container-id-7 div.sk-estimator input.sk-toggleable__control:checked~label.sk-toggleable__label {background-color: #d4ebff;}#sk-container-id-7 div.sk-label input.sk-toggleable__control:checked~label.sk-toggleable__label {background-color: #d4ebff;}#sk-container-id-7 input.sk-hidden--visually {border: 0;clip: rect(1px 1px 1px 1px);clip: rect(1px, 1px, 1px, 1px);height: 1px;margin: -1px;overflow: hidden;padding: 0;position: absolute;width: 1px;}#sk-container-id-7 div.sk-estimator {font-family: monospace;background-color: #f0f8ff;border: 1px dotted black;border-radius: 0.25em;box-sizing: border-box;margin-bottom: 0.5em;}#sk-container-id-7 div.sk-estimator:hover {background-color: #d4ebff;}#sk-container-id-7 div.sk-parallel-item::after {content: \"\";width: 100%;border-bottom: 1px solid gray;flex-grow: 1;}#sk-container-id-7 div.sk-label:hover label.sk-toggleable__label {background-color: #d4ebff;}#sk-container-id-7 div.sk-serial::before {content: \"\";position: absolute;border-left: 1px solid gray;box-sizing: border-box;top: 0;bottom: 0;left: 50%;z-index: 0;}#sk-container-id-7 div.sk-serial {display: flex;flex-direction: column;align-items: center;background-color: white;padding-right: 0.2em;padding-left: 0.2em;position: relative;}#sk-container-id-7 div.sk-item {position: relative;z-index: 1;}#sk-container-id-7 div.sk-parallel {display: flex;align-items: stretch;justify-content: center;background-color: white;position: relative;}#sk-container-id-7 div.sk-item::before, #sk-container-id-7 div.sk-parallel-item::before {content: \"\";position: absolute;border-left: 1px solid gray;box-sizing: border-box;top: 0;bottom: 0;left: 50%;z-index: -1;}#sk-container-id-7 div.sk-parallel-item {display: flex;flex-direction: column;z-index: 1;position: relative;background-color: white;}#sk-container-id-7 div.sk-parallel-item:first-child::after {align-self: flex-end;width: 50%;}#sk-container-id-7 div.sk-parallel-item:last-child::after {align-self: flex-start;width: 50%;}#sk-container-id-7 div.sk-parallel-item:only-child::after {width: 0;}#sk-container-id-7 div.sk-dashed-wrapped {border: 1px dashed gray;margin: 0 0.4em 0.5em 0.4em;box-sizing: border-box;padding-bottom: 0.4em;background-color: white;}#sk-container-id-7 div.sk-label label {font-family: monospace;font-weight: bold;display: inline-block;line-height: 1.2em;}#sk-container-id-7 div.sk-label-container {text-align: center;}#sk-container-id-7 div.sk-container {/* jupyter's `normalize.less` sets `[hidden] { display: none; }` but bootstrap.min.css set `[hidden] { display: none !important; }` so we also need the `!important` here to be able to override the default hidden behavior on the sphinx rendered scikit-learn.org. See: https://github.com/scikit-learn/scikit-learn/issues/21755 */display: inline-block !important;position: relative;}#sk-container-id-7 div.sk-text-repr-fallback {display: none;}</style><div id=\"sk-container-id-7\" class=\"sk-top-container\"><div class=\"sk-text-repr-fallback\"><pre>Pipeline(steps=[(&#x27;scaler&#x27;, StandardScaler()),\n",
       "                (&#x27;logreg&#x27;,\n",
       "                 LogisticRegression(C=0.0774263682681127,\n",
       "                                    class_weight=&#x27;balanced&#x27;, max_iter=2000,\n",
       "                                    penalty=&#x27;l1&#x27;, solver=&#x27;saga&#x27;))])</pre><b>In a Jupyter environment, please rerun this cell to show the HTML representation or trust the notebook. <br />On GitHub, the HTML representation is unable to render, please try loading this page with nbviewer.org.</b></div><div class=\"sk-container\" hidden><div class=\"sk-item sk-dashed-wrapped\"><div class=\"sk-label-container\"><div class=\"sk-label sk-toggleable\"><input class=\"sk-toggleable__control sk-hidden--visually\" id=\"sk-estimator-id-11\" type=\"checkbox\" ><label for=\"sk-estimator-id-11\" class=\"sk-toggleable__label sk-toggleable__label-arrow\">Pipeline</label><div class=\"sk-toggleable__content\"><pre>Pipeline(steps=[(&#x27;scaler&#x27;, StandardScaler()),\n",
       "                (&#x27;logreg&#x27;,\n",
       "                 LogisticRegression(C=0.0774263682681127,\n",
       "                                    class_weight=&#x27;balanced&#x27;, max_iter=2000,\n",
       "                                    penalty=&#x27;l1&#x27;, solver=&#x27;saga&#x27;))])</pre></div></div></div><div class=\"sk-serial\"><div class=\"sk-item\"><div class=\"sk-estimator sk-toggleable\"><input class=\"sk-toggleable__control sk-hidden--visually\" id=\"sk-estimator-id-12\" type=\"checkbox\" ><label for=\"sk-estimator-id-12\" class=\"sk-toggleable__label sk-toggleable__label-arrow\">StandardScaler</label><div class=\"sk-toggleable__content\"><pre>StandardScaler()</pre></div></div></div><div class=\"sk-item\"><div class=\"sk-estimator sk-toggleable\"><input class=\"sk-toggleable__control sk-hidden--visually\" id=\"sk-estimator-id-13\" type=\"checkbox\" ><label for=\"sk-estimator-id-13\" class=\"sk-toggleable__label sk-toggleable__label-arrow\">LogisticRegression</label><div class=\"sk-toggleable__content\"><pre>LogisticRegression(C=0.0774263682681127, class_weight=&#x27;balanced&#x27;, max_iter=2000,\n",
       "                   penalty=&#x27;l1&#x27;, solver=&#x27;saga&#x27;)</pre></div></div></div></div></div></div></div>"
      ],
      "text/plain": [
       "Pipeline(steps=[('scaler', StandardScaler()),\n",
       "                ('logreg',\n",
       "                 LogisticRegression(C=0.0774263682681127,\n",
       "                                    class_weight='balanced', max_iter=2000,\n",
       "                                    penalty='l1', solver='saga'))])"
      ]
     },
     "execution_count": 83,
     "metadata": {},
     "output_type": "execute_result"
    }
   ],
   "source": [
    "X_final=np.concatenate([X_train, X_valid])\n",
    "Y_final=np.concatenate([Y_train, Y_valid])\n",
    "best_lr_18_19.fit(X_final,Y_final)"
   ]
  },
  {
   "cell_type": "code",
   "execution_count": 84,
   "id": "2a1c3a2a",
   "metadata": {
    "scrolled": true
   },
   "outputs": [
    {
     "name": "stdout",
     "output_type": "stream",
     "text": [
      "Accuracy: 0.8983050847457628\n",
      "Precision: 0.9246575342465754\n",
      "Recall: 0.9121621621621622\n",
      "F1 Score: 0.9183673469387755\n",
      "True Positive Rate: 0.9121621621621622\n",
      "False Positive Rate: 0.125\n"
     ]
    }
   ],
   "source": [
    "evaluate_classifier(best_lr_18_19, X_test, Y_test)"
   ]
  },
  {
   "cell_type": "code",
   "execution_count": 85,
   "id": "048736d7",
   "metadata": {},
   "outputs": [
    {
     "data": {
      "text/plain": [
       "<sklearn.metrics._plot.confusion_matrix.ConfusionMatrixDisplay at 0x2632e178220>"
      ]
     },
     "execution_count": 85,
     "metadata": {},
     "output_type": "execute_result"
    },
    {
     "data": {
      "image/png": "[encoded data removed]",
      "text/plain": [
       "<Figure size 640x480 with 2 Axes>"
      ]
     },
     "metadata": {},
     "output_type": "display_data"
    }
   ],
   "source": [
    "y_prob =  best_lr_18_19.predict_proba(X_test)[:, 1]\n",
    "y_pred = (y_prob >= best_threshold).astype(int)\n",
    "cm = confusion_matrix(Y_test,y_pred, labels= best_lr_day.classes_)\n",
    "disp = ConfusionMatrixDisplay(confusion_matrix=cm,\n",
    "                           display_labels= best_lr_day.classes_)\n",
    "disp.plot()"
   ]
  },
  {
   "cell_type": "markdown",
   "id": "c669512b",
   "metadata": {},
   "source": [
    "Mostriamo i dati sulla mappa di Trento"
   ]
  },
  {
   "cell_type": "code",
   "execution_count": 86,
   "id": "5ae413cc",
   "metadata": {},
   "outputs": [
    {
     "data": {
      "text/html": [
       "<div>\n",
       "<style scoped>\n",
       "    .dataframe tbody tr th:only-of-type {\n",
       "        vertical-align: middle;\n",
       "    }\n",
       "\n",
       "    .dataframe tbody tr th {\n",
       "        vertical-align: top;\n",
       "    }\n",
       "\n",
       "    .dataframe thead th {\n",
       "        text-align: right;\n",
       "    }\n",
       "</style>\n",
       "<table border=\"1\" class=\"dataframe\">\n",
       "  <thead>\n",
       "    <tr style=\"text-align: right;\">\n",
       "      <th></th>\n",
       "      <th>SQUAREID</th>\n",
       "      <th>HIGH_POW</th>\n",
       "      <th>PRED</th>\n",
       "    </tr>\n",
       "  </thead>\n",
       "  <tbody>\n",
       "    <tr>\n",
       "      <th>0</th>\n",
       "      <td>4850</td>\n",
       "      <td>0</td>\n",
       "      <td>1.0</td>\n",
       "    </tr>\n",
       "    <tr>\n",
       "      <th>1</th>\n",
       "      <td>4850</td>\n",
       "      <td>1</td>\n",
       "      <td>1.0</td>\n",
       "    </tr>\n",
       "    <tr>\n",
       "      <th>2</th>\n",
       "      <td>4966</td>\n",
       "      <td>0</td>\n",
       "      <td>1.0</td>\n",
       "    </tr>\n",
       "    <tr>\n",
       "      <th>3</th>\n",
       "      <td>4966</td>\n",
       "      <td>1</td>\n",
       "      <td>1.0</td>\n",
       "    </tr>\n",
       "    <tr>\n",
       "      <th>4</th>\n",
       "      <td>4967</td>\n",
       "      <td>1</td>\n",
       "      <td>1.0</td>\n",
       "    </tr>\n",
       "    <tr>\n",
       "      <th>5</th>\n",
       "      <td>4968</td>\n",
       "      <td>0</td>\n",
       "      <td>1.0</td>\n",
       "    </tr>\n",
       "    <tr>\n",
       "      <th>6</th>\n",
       "      <td>4968</td>\n",
       "      <td>1</td>\n",
       "      <td>1.0</td>\n",
       "    </tr>\n",
       "    <tr>\n",
       "      <th>7</th>\n",
       "      <td>5082</td>\n",
       "      <td>0</td>\n",
       "      <td>0.0</td>\n",
       "    </tr>\n",
       "    <tr>\n",
       "      <th>8</th>\n",
       "      <td>5083</td>\n",
       "      <td>1</td>\n",
       "      <td>1.0</td>\n",
       "    </tr>\n",
       "    <tr>\n",
       "      <th>9</th>\n",
       "      <td>5084</td>\n",
       "      <td>1</td>\n",
       "      <td>1.0</td>\n",
       "    </tr>\n",
       "    <tr>\n",
       "      <th>10</th>\n",
       "      <td>5085</td>\n",
       "      <td>0</td>\n",
       "      <td>1.0</td>\n",
       "    </tr>\n",
       "    <tr>\n",
       "      <th>11</th>\n",
       "      <td>5085</td>\n",
       "      <td>1</td>\n",
       "      <td>1.0</td>\n",
       "    </tr>\n",
       "    <tr>\n",
       "      <th>12</th>\n",
       "      <td>5086</td>\n",
       "      <td>0</td>\n",
       "      <td>1.0</td>\n",
       "    </tr>\n",
       "    <tr>\n",
       "      <th>13</th>\n",
       "      <td>5086</td>\n",
       "      <td>1</td>\n",
       "      <td>1.0</td>\n",
       "    </tr>\n",
       "    <tr>\n",
       "      <th>14</th>\n",
       "      <td>5199</td>\n",
       "      <td>0</td>\n",
       "      <td>0.0</td>\n",
       "    </tr>\n",
       "    <tr>\n",
       "      <th>15</th>\n",
       "      <td>5200</td>\n",
       "      <td>1</td>\n",
       "      <td>1.0</td>\n",
       "    </tr>\n",
       "    <tr>\n",
       "      <th>16</th>\n",
       "      <td>5201</td>\n",
       "      <td>1</td>\n",
       "      <td>1.0</td>\n",
       "    </tr>\n",
       "    <tr>\n",
       "      <th>17</th>\n",
       "      <td>5202</td>\n",
       "      <td>1</td>\n",
       "      <td>1.0</td>\n",
       "    </tr>\n",
       "    <tr>\n",
       "      <th>18</th>\n",
       "      <td>5203</td>\n",
       "      <td>1</td>\n",
       "      <td>1.0</td>\n",
       "    </tr>\n",
       "    <tr>\n",
       "      <th>19</th>\n",
       "      <td>5204</td>\n",
       "      <td>0</td>\n",
       "      <td>0.0</td>\n",
       "    </tr>\n",
       "    <tr>\n",
       "      <th>20</th>\n",
       "      <td>5316</td>\n",
       "      <td>0</td>\n",
       "      <td>0.0</td>\n",
       "    </tr>\n",
       "    <tr>\n",
       "      <th>21</th>\n",
       "      <td>5317</td>\n",
       "      <td>1</td>\n",
       "      <td>1.0</td>\n",
       "    </tr>\n",
       "    <tr>\n",
       "      <th>22</th>\n",
       "      <td>5318</td>\n",
       "      <td>1</td>\n",
       "      <td>1.0</td>\n",
       "    </tr>\n",
       "    <tr>\n",
       "      <th>23</th>\n",
       "      <td>5319</td>\n",
       "      <td>1</td>\n",
       "      <td>1.0</td>\n",
       "    </tr>\n",
       "    <tr>\n",
       "      <th>24</th>\n",
       "      <td>5320</td>\n",
       "      <td>0</td>\n",
       "      <td>0.0</td>\n",
       "    </tr>\n",
       "    <tr>\n",
       "      <th>25</th>\n",
       "      <td>5433</td>\n",
       "      <td>0</td>\n",
       "      <td>0.0</td>\n",
       "    </tr>\n",
       "    <tr>\n",
       "      <th>26</th>\n",
       "      <td>5433</td>\n",
       "      <td>1</td>\n",
       "      <td>1.0</td>\n",
       "    </tr>\n",
       "    <tr>\n",
       "      <th>27</th>\n",
       "      <td>5434</td>\n",
       "      <td>1</td>\n",
       "      <td>1.0</td>\n",
       "    </tr>\n",
       "    <tr>\n",
       "      <th>28</th>\n",
       "      <td>5435</td>\n",
       "      <td>1</td>\n",
       "      <td>1.0</td>\n",
       "    </tr>\n",
       "    <tr>\n",
       "      <th>29</th>\n",
       "      <td>5436</td>\n",
       "      <td>0</td>\n",
       "      <td>0.0</td>\n",
       "    </tr>\n",
       "    <tr>\n",
       "      <th>30</th>\n",
       "      <td>5437</td>\n",
       "      <td>0</td>\n",
       "      <td>0.0</td>\n",
       "    </tr>\n",
       "    <tr>\n",
       "      <th>31</th>\n",
       "      <td>5550</td>\n",
       "      <td>1</td>\n",
       "      <td>1.0</td>\n",
       "    </tr>\n",
       "    <tr>\n",
       "      <th>32</th>\n",
       "      <td>5551</td>\n",
       "      <td>1</td>\n",
       "      <td>1.0</td>\n",
       "    </tr>\n",
       "    <tr>\n",
       "      <th>33</th>\n",
       "      <td>5552</td>\n",
       "      <td>0</td>\n",
       "      <td>0.0</td>\n",
       "    </tr>\n",
       "  </tbody>\n",
       "</table>\n",
       "</div>"
      ],
      "text/plain": [
       "    SQUAREID  HIGH_POW  PRED\n",
       "0       4850         0   1.0\n",
       "1       4850         1   1.0\n",
       "2       4966         0   1.0\n",
       "3       4966         1   1.0\n",
       "4       4967         1   1.0\n",
       "5       4968         0   1.0\n",
       "6       4968         1   1.0\n",
       "7       5082         0   0.0\n",
       "8       5083         1   1.0\n",
       "9       5084         1   1.0\n",
       "10      5085         0   1.0\n",
       "11      5085         1   1.0\n",
       "12      5086         0   1.0\n",
       "13      5086         1   1.0\n",
       "14      5199         0   0.0\n",
       "15      5200         1   1.0\n",
       "16      5201         1   1.0\n",
       "17      5202         1   1.0\n",
       "18      5203         1   1.0\n",
       "19      5204         0   0.0\n",
       "20      5316         0   0.0\n",
       "21      5317         1   1.0\n",
       "22      5318         1   1.0\n",
       "23      5319         1   1.0\n",
       "24      5320         0   0.0\n",
       "25      5433         0   0.0\n",
       "26      5433         1   1.0\n",
       "27      5434         1   1.0\n",
       "28      5435         1   1.0\n",
       "29      5436         0   0.0\n",
       "30      5437         0   0.0\n",
       "31      5550         1   1.0\n",
       "32      5551         1   1.0\n",
       "33      5552         0   0.0"
      ]
     },
     "execution_count": 86,
     "metadata": {},
     "output_type": "execute_result"
    }
   ],
   "source": [
    "y_prob =  best_lr_18_19.predict_proba(scal.transform(X))[:, 1]\n",
    "df_day_trento['PRED']=(y_prob >= best_threshold).astype(int)\n",
    "df_day_trento.groupby([\"SQUAREID\",\"HIGH_POW\"])[[\"PRED\"]].mean().reset_index()"
   ]
  },
  {
   "cell_type": "code",
   "execution_count": 87,
   "id": "f38e638e",
   "metadata": {},
   "outputs": [
    {
     "data": {
      "text/html": [
       "<div>\n",
       "<style scoped>\n",
       "    .dataframe tbody tr th:only-of-type {\n",
       "        vertical-align: middle;\n",
       "    }\n",
       "\n",
       "    .dataframe tbody tr th {\n",
       "        vertical-align: top;\n",
       "    }\n",
       "\n",
       "    .dataframe thead th {\n",
       "        text-align: right;\n",
       "    }\n",
       "</style>\n",
       "<table border=\"1\" class=\"dataframe\">\n",
       "  <thead>\n",
       "    <tr style=\"text-align: right;\">\n",
       "      <th></th>\n",
       "      <th>SQUAREID</th>\n",
       "      <th>geometry</th>\n",
       "      <th>HIGH_POW</th>\n",
       "      <th>PRED</th>\n",
       "    </tr>\n",
       "  </thead>\n",
       "  <tbody>\n",
       "    <tr>\n",
       "      <th>0</th>\n",
       "      <td>38</td>\n",
       "      <td>POLYGON ((10.91462 45.68201, 10.92746 45.68179...</td>\n",
       "      <td>NaN</td>\n",
       "      <td>NaN</td>\n",
       "    </tr>\n",
       "    <tr>\n",
       "      <th>1</th>\n",
       "      <td>39</td>\n",
       "      <td>POLYGON ((10.92746 45.68179, 10.94029 45.68157...</td>\n",
       "      <td>NaN</td>\n",
       "      <td>NaN</td>\n",
       "    </tr>\n",
       "    <tr>\n",
       "      <th>2</th>\n",
       "      <td>40</td>\n",
       "      <td>POLYGON ((10.94029 45.68157, 10.95312 45.68136...</td>\n",
       "      <td>NaN</td>\n",
       "      <td>NaN</td>\n",
       "    </tr>\n",
       "    <tr>\n",
       "      <th>3</th>\n",
       "      <td>154</td>\n",
       "      <td>POLYGON ((10.90209 45.69122, 10.91493 45.69100...</td>\n",
       "      <td>NaN</td>\n",
       "      <td>NaN</td>\n",
       "    </tr>\n",
       "    <tr>\n",
       "      <th>4</th>\n",
       "      <td>155</td>\n",
       "      <td>POLYGON ((10.91493 45.69100, 10.92777 45.69079...</td>\n",
       "      <td>NaN</td>\n",
       "      <td>NaN</td>\n",
       "    </tr>\n",
       "    <tr>\n",
       "      <th>...</th>\n",
       "      <td>...</td>\n",
       "      <td>...</td>\n",
       "      <td>...</td>\n",
       "      <td>...</td>\n",
       "    </tr>\n",
       "    <tr>\n",
       "      <th>7718</th>\n",
       "      <td>11336</td>\n",
       "      <td>POLYGON ((11.80475 46.52767, 11.81777 46.52735...</td>\n",
       "      <td>NaN</td>\n",
       "      <td>NaN</td>\n",
       "    </tr>\n",
       "    <tr>\n",
       "      <th>7719</th>\n",
       "      <td>11337</td>\n",
       "      <td>POLYGON ((11.81777 46.52735, 11.83080 46.52703...</td>\n",
       "      <td>NaN</td>\n",
       "      <td>NaN</td>\n",
       "    </tr>\n",
       "    <tr>\n",
       "      <th>7720</th>\n",
       "      <td>11452</td>\n",
       "      <td>POLYGON ((11.79219 46.53698, 11.80521 46.53666...</td>\n",
       "      <td>NaN</td>\n",
       "      <td>NaN</td>\n",
       "    </tr>\n",
       "    <tr>\n",
       "      <th>7721</th>\n",
       "      <td>11453</td>\n",
       "      <td>POLYGON ((11.80521 46.53666, 11.81824 46.53634...</td>\n",
       "      <td>NaN</td>\n",
       "      <td>NaN</td>\n",
       "    </tr>\n",
       "    <tr>\n",
       "      <th>7722</th>\n",
       "      <td>11454</td>\n",
       "      <td>POLYGON ((11.81824 46.53634, 11.83126 46.53601...</td>\n",
       "      <td>NaN</td>\n",
       "      <td>NaN</td>\n",
       "    </tr>\n",
       "  </tbody>\n",
       "</table>\n",
       "<p>7723 rows × 4 columns</p>\n",
       "</div>"
      ],
      "text/plain": [
       "      SQUAREID                                           geometry  HIGH_POW  \\\n",
       "0           38  POLYGON ((10.91462 45.68201, 10.92746 45.68179...       NaN   \n",
       "1           39  POLYGON ((10.92746 45.68179, 10.94029 45.68157...       NaN   \n",
       "2           40  POLYGON ((10.94029 45.68157, 10.95312 45.68136...       NaN   \n",
       "3          154  POLYGON ((10.90209 45.69122, 10.91493 45.69100...       NaN   \n",
       "4          155  POLYGON ((10.91493 45.69100, 10.92777 45.69079...       NaN   \n",
       "...        ...                                                ...       ...   \n",
       "7718     11336  POLYGON ((11.80475 46.52767, 11.81777 46.52735...       NaN   \n",
       "7719     11337  POLYGON ((11.81777 46.52735, 11.83080 46.52703...       NaN   \n",
       "7720     11452  POLYGON ((11.79219 46.53698, 11.80521 46.53666...       NaN   \n",
       "7721     11453  POLYGON ((11.80521 46.53666, 11.81824 46.53634...       NaN   \n",
       "7722     11454  POLYGON ((11.81824 46.53634, 11.83126 46.53601...       NaN   \n",
       "\n",
       "      PRED  \n",
       "0      NaN  \n",
       "1      NaN  \n",
       "2      NaN  \n",
       "3      NaN  \n",
       "4      NaN  \n",
       "...    ...  \n",
       "7718   NaN  \n",
       "7719   NaN  \n",
       "7720   NaN  \n",
       "7721   NaN  \n",
       "7722   NaN  \n",
       "\n",
       "[7723 rows x 4 columns]"
      ]
     },
     "execution_count": 87,
     "metadata": {},
     "output_type": "execute_result"
    }
   ],
   "source": [
    "import geopandas as gpd\n",
    "df_grid = gp.read_file(\"./data_trentino/raw/trentino-grid.geojson\")\n",
    "df_grid = df_grid.rename(columns={\"cellId\": \"SQUAREID\"})\n",
    "df_grid[['SQUAREID','geometry']]\n",
    "df_grid=df_grid.merge(df_day_trento[[\"SQUAREID\",\"HIGH_POW\",'PRED']],on='SQUAREID',how='left')\n",
    "df_grid"
   ]
  },
  {
   "cell_type": "code",
   "execution_count": 88,
   "id": "affe3fdf",
   "metadata": {},
   "outputs": [],
   "source": [
    "df_grid['Category'] = 'Unknown'  \n",
    "\n",
    "df_grid.loc[(df_grid['HIGH_POW'] > 0.5) & (df_grid['PRED'] > 0.5), 'Category'] = 'Real Positive'\n",
    "df_grid.loc[(df_grid['HIGH_POW'] > 0.5) & (df_grid['PRED'] < 0.5), 'Category'] = 'False Negative'\n",
    "df_grid.loc[(df_grid['HIGH_POW'] <0.5) & (df_grid['PRED'] > 0.5), 'Category'] = 'False Positive'\n",
    "df_grid.loc[(df_grid['HIGH_POW'] < 0.5) & (df_grid['PRED'] < 0.5), 'Category'] = 'Real Negative'\n",
    "\n",
    "df_grid.dropna(inplace=True)"
   ]
  },
  {
   "cell_type": "code",
   "execution_count": 89,
   "id": "78ce3c18",
   "metadata": {},
   "outputs": [
    {
     "data": {
      "image/png": "[encoded data removed]",
      "text/plain": [
       "<Figure size 900x900 with 1 Axes>"
      ]
     },
     "metadata": {},
     "output_type": "display_data"
    }
   ],
   "source": [
    "import matplotlib.patches as mpatches\n",
    "fig, ax = plt.subplots(figsize=(9, 9))\n",
    "\n",
    "df_grid.plot(column='Category', legend=True,ax=ax, cmap='Set3')\n",
    "\n",
    "ax.set_title('Zone Categories')\n",
    "\n",
    "# Plot the custom legend\n",
    "\n",
    "plt.show()"
   ]
  },
  {
   "cell_type": "markdown",
   "id": "9f9e427e",
   "metadata": {},
   "source": [
    "Nonostante l'utilizzo di una fascia oraria più restrittiva, i dati ottenuti sono in linea con quelli precedenti. Questo risultato suggerisce che la riduzione della fascia oraria non ha influenzato in modo significativo le previsioni del modello. Considerando che i sei modelli testati sono equivalenti in termini di prestazioni, è sufficiente salvare soltanto due dei modelli per mantenere una rappresentazione adeguata del modello migliore. "
   ]
  },
  {
   "cell_type": "code",
   "execution_count": 90,
   "id": "82a7d946",
   "metadata": {},
   "outputs": [],
   "source": [
    "from joblib import dump, load"
   ]
  },
  {
   "cell_type": "code",
   "execution_count": 92,
   "id": "3ecbc99d",
   "metadata": {},
   "outputs": [],
   "source": [
    "models = {'LR':{'filename':'LR.pkl','value':LR_day},\n",
    "            'Best_lr':{'filename':'Best_lr.pkl','value':best_lr_day}}\n",
    "dump(models['LR']['value'],models['LR']['filename'])\n",
    "pklfiles = [dump(**mod) for mod in models.values()]"
   ]
  },
  {
   "cell_type": "code",
   "execution_count": null,
   "id": "9ed775d4",
   "metadata": {},
   "outputs": [],
   "source": []
  }
 ],
 "metadata": {
  "kernelspec": {
   "display_name": "Python 3 (ipykernel)",
   "language": "python",
   "name": "python3"
  },
  "language_info": {
   "codemirror_mode": {
    "name": "ipython",
    "version": 3
   },
   "file_extension": ".py",
   "mimetype": "text/x-python",
   "name": "python",
   "nbconvert_exporter": "python",
   "pygments_lexer": "ipython3",
   "version": "3.10.12"
  }
 },
 "nbformat": 4,
 "nbformat_minor": 5
}
