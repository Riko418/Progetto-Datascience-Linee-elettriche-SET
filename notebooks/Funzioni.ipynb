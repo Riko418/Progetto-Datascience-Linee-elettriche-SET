{
 "cells": [
  {
   "cell_type": "code",
   "execution_count": null,
   "id": "3304ee47",
   "metadata": {},
   "outputs": [],
   "source": [
    "def plot_confusion_matrix(y_train, y_train_pred, y_test, y_test_pred, classes, is_test=True):\n",
    "    #OUTPUT: due confusion matrix una affianco all'altra, una per il test e l'altra per il train\n",
    "    \n",
    "    #ANNOTAZIONI: classes sono le classi del regressore che si utilizza, si possono passare come 'nome_regressore.classes_'\n",
    "    #'is_test' può essere solo True o False, mi serve solo per dare titoli diversi alle due matrici di confusione, ovviamente \n",
    "    #se è True la y_train sarà in realtà la y del train + y_valid, mentre se è False allora y_test in realtà è la y_valid\n",
    "    #proprio per questo cambio i nomi ai titoli delle confusion matrix\n",
    "    \n",
    "    fig, axs = plt.subplots(1, 2, figsize=(10, 5))\n",
    "    if is_test:\n",
    "        titles = [\"Confusion Matrix Train+Valid\", \"Confusion Matrix Test\"]\n",
    "    else:\n",
    "        titles = [\"Confusion Matrix Train\", \"Confusion Matrix Validazione\"]\n",
    "    \n",
    "    for i, (y_values, y_pred) in enumerate([(y_train, y_train_pred), (y_test, y_test_pred)]):\n",
    "        cm = confusion_matrix(y_values, y_pred)\n",
    "        disp = ConfusionMatrixDisplay(confusion_matrix=cm, display_labels=classes)\n",
    "        disp.plot(ax=axs[i], cmap='Blues')\n",
    "        axs[i].set_title(titles[i])\n",
    "        axs[i].set_xlabel('Predicted Labels')\n",
    "        axs[i].set_ylabel('True Labels')\n",
    "    \n",
    "    plt.tight_layout()\n",
    "    plt.show()\n"
   ]
  },
  {
   "cell_type": "code",
   "execution_count": null,
   "id": "abe568fa",
   "metadata": {},
   "outputs": [],
   "source": [
    "def train_regression_model(regressor, param_grid, cv, X, y):\n",
    "    \n",
    "    #OUTPUT: regressore ottimizzato con i parametri messi nella griglia di parametri param_grid\n",
    "    \n",
    "    #ANNOTAZIONI: X e y sono le X e le y del TRAIN perchè questa funzione mi fitta il regressore che voglio usare con i migliori\n",
    "    #iperparametri che ho messo nella griglia di parametri param_grid.\n",
    "    #'param_grid' è la griglia di parametri che deve essere definita come un dizionario quindi:\n",
    "    #param_grid={\n",
    "    #            \"parametro_1\": \"[valore1, valore2, ...]\",\n",
    "    #            \"parametro_2\": \"[valore1, valore2]\",\n",
    "    #             ...\n",
    "    #            }\n",
    "    #La funzione in outpunt mi restituisce il regressore ottimizzato quindi la devo chiamare così:\n",
    "    # nome_regressore_ottimizzato = train_regression_model(regressore_da_ottimizzare, param_grid, ...)\n",
    "    #Nota: il regressore migliore 'best_regressor' NON fitta sui punti, non è stata implementata quella riga di codice perchè\n",
    "    #se i 'best_params' sono gli stessi tra un tentativo e l'altro quando cambio i parametri di param_grid non ha senso aspettaere\n",
    "    #che mi faccia il fit, è lo stesso di prima già fatto\n",
    "    \n",
    "    \n",
    "    grid_search = GridSearchCV(regressor, param_grid, cv=cv)\n",
    "    grid_search.fit(X, y)\n",
    "\n",
    "    #Printa i migliori parametri trovati\n",
    "    best_params = grid_search.best_params_\n",
    "    print(\"Migliori parametri:\", best_params)\n",
    "\n",
    "    \n",
    "    best_regressor = regressor.__class__(**best_params) #Crea un nuovo regressore con i migliori parametri\n",
    "    \n",
    "    \n",
    "    return best_regressor\n"
   ]
  }
 ],
 "metadata": {
  "kernelspec": {
   "display_name": "Python 3 (ipykernel)",
   "language": "python",
   "name": "python3"
  },
  "language_info": {
   "codemirror_mode": {
    "name": "ipython",
    "version": 3
   },
   "file_extension": ".py",
   "mimetype": "text/x-python",
   "name": "python",
   "nbconvert_exporter": "python",
   "pygments_lexer": "ipython3",
   "version": "3.8.1"
  }
 },
 "nbformat": 4,
 "nbformat_minor": 5
}
